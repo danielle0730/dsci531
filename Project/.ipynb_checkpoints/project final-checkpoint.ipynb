{
 "cells": [
  {
   "cell_type": "code",
   "execution_count": 154,
   "id": "5ef0a190",
   "metadata": {},
   "outputs": [],
   "source": [
    "import csv\n",
    "import pandas as pd\n",
    "import numpy as np\n",
    "\n",
    "from sklearn.model_selection import train_test_split\n",
    "from sklearn.linear_model import LinearRegression, LogisticRegression\n",
    "from sklearn.metrics import accuracy_score\n",
    "from sklearn import preprocessing\n",
    "from scipy import stats\n",
    "from sklearn.feature_selection import RFE\n",
    "\n",
    "pd.options.mode.chained_assignment = None"
   ]
  },
  {
   "cell_type": "markdown",
   "id": "556de6a3",
   "metadata": {},
   "source": [
    "### Fairness Metrics"
   ]
  },
  {
   "cell_type": "code",
   "execution_count": 155,
   "id": "a71ab42f",
   "metadata": {},
   "outputs": [],
   "source": [
    "def stat_parity(preds, sens):\n",
    "    '''\n",
    "    :preds: numpy array of the model predictions. Consisting of 0s and 1s\n",
    "    :sens: numpy array of the sensitive features. Consisting of 0s and 1s\n",
    "    :return: the statistical parity. no need to take the absolute value\n",
    "    '''\n",
    "    \n",
    "    # TODO. 10pts\n",
    "    data = pd.DataFrame({'preds': preds, 'sens':sens})\n",
    "    \n",
    "    sens_group = data[data.sens==1]\n",
    "    non_sens_group = data[data.sens==0]\n",
    "    \n",
    "    prob_sens_group = len(sens_group[sens_group.preds==1])/len(sens_group)\n",
    "    prob_non_sens_group = len(non_sens_group[non_sens_group.preds==1])/len(non_sens_group)\n",
    "    \n",
    "    result = prob_sens_group - prob_non_sens_group\n",
    "    \n",
    "    return result\n",
    "\n",
    "\n",
    "def eq_oppo(preds, sens, labels):\n",
    "    '''\n",
    "    :preds: numpy array of the model predictions. Consisting of 0s and 1s\n",
    "    :sens: numpy array of the sensitive features. Consisting of 0s and 1s\n",
    "    :labels: numpy array of the ground truth labels of the outcome. Consisting of 0s and 1s\n",
    "    :return: the statistical parity. no need to take the absolute value\n",
    "    '''\n",
    "    \n",
    "    # TODO. 10pts\n",
    "    data = pd.DataFrame({'preds': preds, 'sens': sens, 'labels': labels})\n",
    "    \n",
    "    sens_group = data[data.sens==1]\n",
    "    non_sens_group = data[data.sens==0]\n",
    "    \n",
    "    tp = len(sens_group[(sens_group.preds==1) & (sens_group.labels==1)])\n",
    "    fn = len(sens_group[(sens_group.preds==0) & (sens_group.labels==1)])\n",
    "    try: \n",
    "        tpr_sens_group = tp/(tp+fn)\n",
    "    except: \n",
    "        tpr_sens_group = 0\n",
    "    \n",
    "    tp = len(non_sens_group[(non_sens_group.preds==1) & (non_sens_group.labels==1)])\n",
    "    fn = len(non_sens_group[(non_sens_group.preds==0) & (non_sens_group.labels==1)])\n",
    "    try: \n",
    "        tpr_non_sens_group = tp/(tp+fn)\n",
    "    except: \n",
    "        tpr_non_sens_group = 0\n",
    "    \n",
    "    result = tpr_sens_group - tpr_non_sens_group\n",
    "    \n",
    "    return result"
   ]
  },
  {
   "cell_type": "markdown",
   "id": "71d630d8",
   "metadata": {},
   "source": [
    "## Data Preprocessing "
   ]
  },
  {
   "cell_type": "markdown",
   "id": "171290c1",
   "metadata": {},
   "source": [
    "### Preprocessing DataFrame"
   ]
  },
  {
   "cell_type": "code",
   "execution_count": 156,
   "id": "f61a00c3",
   "metadata": {},
   "outputs": [],
   "source": [
    "def process_dfs(df_train_x, df_test_x, categ_cols):\n",
    "    '''\n",
    "    Pre-process the features of the training set and the test set, not including the outcome column.\n",
    "    Convert categorical features (nominal & ordinal features) to one-hot encodings.\n",
    "    Normalize the numerical features into [0, 1].\n",
    "    We process training set and the test set together in order to make sure that \n",
    "    the encodings are consistent between them.\n",
    "    For example, if one class is encoded as 001 and another class is encoded as 010 in the training set,\n",
    "    you should follow this mapping for the test set too.\n",
    "    \n",
    "    :df_train: the dataframe of the training data\n",
    "    :df_test: the dataframe of the test data\n",
    "    :categ_cols: the column names of the categorical features. the rest features are treated as numerical ones.\n",
    "    :return: the processed training data and test data, both should be numpy arrays, instead of DataFrames\n",
    "    '''\n",
    "    \n",
    "    # TODO. 10pts\n",
    "    \n",
    "    df_train_x['source'] = 'train'\n",
    "    df_test_x['source'] = 'test'\n",
    "    categ_cols = categ_cols+['source']\n",
    "    \n",
    "    data = pd.concat([df_train_x, df_test_x])\n",
    "    data_cat_cols = pd.get_dummies(data[categ_cols], drop_first=True)\n",
    "    data_num_cols = data.drop(categ_cols, axis=1)\n",
    "    data_norm_cols = pd.DataFrame(preprocessing.normalize(data_num_cols, axis=0), columns=list(data_num_cols.columns))\n",
    "    \n",
    "    data_processed = pd.concat([data_cat_cols.reset_index(drop=True), data_norm_cols.reset_index(drop=True)], axis=1)\n",
    "    train_x = data_processed[data_processed.source_train==1].copy()\n",
    "    test_x = data_processed[data_processed.source_train==0].copy()\n",
    "    \n",
    "    train_x.drop('source_train', axis=1, inplace=True)\n",
    "    test_x.drop('source_train', axis=1, inplace=True)\n",
    "    \n",
    "    return train_x, test_x"
   ]
  },
  {
   "cell_type": "code",
   "execution_count": 157,
   "id": "ab3a8f45",
   "metadata": {
    "scrolled": true
   },
   "outputs": [
    {
     "data": {
      "text/html": [
       "<div>\n",
       "<style scoped>\n",
       "    .dataframe tbody tr th:only-of-type {\n",
       "        vertical-align: middle;\n",
       "    }\n",
       "\n",
       "    .dataframe tbody tr th {\n",
       "        vertical-align: top;\n",
       "    }\n",
       "\n",
       "    .dataframe thead th {\n",
       "        text-align: right;\n",
       "    }\n",
       "</style>\n",
       "<table border=\"1\" class=\"dataframe\">\n",
       "  <thead>\n",
       "    <tr style=\"text-align: right;\">\n",
       "      <th></th>\n",
       "      <th>school</th>\n",
       "      <th>sex</th>\n",
       "      <th>age</th>\n",
       "      <th>address</th>\n",
       "      <th>famsize</th>\n",
       "      <th>Pstatus</th>\n",
       "      <th>Medu</th>\n",
       "      <th>Fedu</th>\n",
       "      <th>Mjob</th>\n",
       "      <th>Fjob</th>\n",
       "      <th>...</th>\n",
       "      <th>famrel</th>\n",
       "      <th>freetime</th>\n",
       "      <th>goout</th>\n",
       "      <th>Dalc</th>\n",
       "      <th>Walc</th>\n",
       "      <th>health</th>\n",
       "      <th>absences</th>\n",
       "      <th>G1</th>\n",
       "      <th>G2</th>\n",
       "      <th>G3</th>\n",
       "    </tr>\n",
       "  </thead>\n",
       "  <tbody>\n",
       "    <tr>\n",
       "      <th>0</th>\n",
       "      <td>GP</td>\n",
       "      <td>F</td>\n",
       "      <td>18</td>\n",
       "      <td>U</td>\n",
       "      <td>GT3</td>\n",
       "      <td>A</td>\n",
       "      <td>4</td>\n",
       "      <td>4</td>\n",
       "      <td>at_home</td>\n",
       "      <td>teacher</td>\n",
       "      <td>...</td>\n",
       "      <td>4</td>\n",
       "      <td>3</td>\n",
       "      <td>4</td>\n",
       "      <td>1</td>\n",
       "      <td>1</td>\n",
       "      <td>3</td>\n",
       "      <td>4</td>\n",
       "      <td>0</td>\n",
       "      <td>11</td>\n",
       "      <td>11</td>\n",
       "    </tr>\n",
       "    <tr>\n",
       "      <th>1</th>\n",
       "      <td>GP</td>\n",
       "      <td>F</td>\n",
       "      <td>17</td>\n",
       "      <td>U</td>\n",
       "      <td>GT3</td>\n",
       "      <td>T</td>\n",
       "      <td>1</td>\n",
       "      <td>1</td>\n",
       "      <td>at_home</td>\n",
       "      <td>other</td>\n",
       "      <td>...</td>\n",
       "      <td>5</td>\n",
       "      <td>3</td>\n",
       "      <td>3</td>\n",
       "      <td>1</td>\n",
       "      <td>1</td>\n",
       "      <td>3</td>\n",
       "      <td>2</td>\n",
       "      <td>9</td>\n",
       "      <td>11</td>\n",
       "      <td>11</td>\n",
       "    </tr>\n",
       "    <tr>\n",
       "      <th>2</th>\n",
       "      <td>GP</td>\n",
       "      <td>F</td>\n",
       "      <td>15</td>\n",
       "      <td>U</td>\n",
       "      <td>LE3</td>\n",
       "      <td>T</td>\n",
       "      <td>1</td>\n",
       "      <td>1</td>\n",
       "      <td>at_home</td>\n",
       "      <td>other</td>\n",
       "      <td>...</td>\n",
       "      <td>4</td>\n",
       "      <td>3</td>\n",
       "      <td>2</td>\n",
       "      <td>2</td>\n",
       "      <td>3</td>\n",
       "      <td>3</td>\n",
       "      <td>6</td>\n",
       "      <td>12</td>\n",
       "      <td>13</td>\n",
       "      <td>12</td>\n",
       "    </tr>\n",
       "    <tr>\n",
       "      <th>3</th>\n",
       "      <td>GP</td>\n",
       "      <td>F</td>\n",
       "      <td>15</td>\n",
       "      <td>U</td>\n",
       "      <td>GT3</td>\n",
       "      <td>T</td>\n",
       "      <td>4</td>\n",
       "      <td>2</td>\n",
       "      <td>health</td>\n",
       "      <td>services</td>\n",
       "      <td>...</td>\n",
       "      <td>3</td>\n",
       "      <td>2</td>\n",
       "      <td>2</td>\n",
       "      <td>1</td>\n",
       "      <td>1</td>\n",
       "      <td>5</td>\n",
       "      <td>0</td>\n",
       "      <td>14</td>\n",
       "      <td>14</td>\n",
       "      <td>14</td>\n",
       "    </tr>\n",
       "    <tr>\n",
       "      <th>4</th>\n",
       "      <td>GP</td>\n",
       "      <td>F</td>\n",
       "      <td>16</td>\n",
       "      <td>U</td>\n",
       "      <td>GT3</td>\n",
       "      <td>T</td>\n",
       "      <td>3</td>\n",
       "      <td>3</td>\n",
       "      <td>other</td>\n",
       "      <td>other</td>\n",
       "      <td>...</td>\n",
       "      <td>4</td>\n",
       "      <td>3</td>\n",
       "      <td>2</td>\n",
       "      <td>1</td>\n",
       "      <td>2</td>\n",
       "      <td>5</td>\n",
       "      <td>0</td>\n",
       "      <td>11</td>\n",
       "      <td>13</td>\n",
       "      <td>13</td>\n",
       "    </tr>\n",
       "  </tbody>\n",
       "</table>\n",
       "<p>5 rows × 33 columns</p>\n",
       "</div>"
      ],
      "text/plain": [
       "  school sex  age address famsize Pstatus  Medu  Fedu     Mjob      Fjob  ...  \\\n",
       "0     GP   F   18       U     GT3       A     4     4  at_home   teacher  ...   \n",
       "1     GP   F   17       U     GT3       T     1     1  at_home     other  ...   \n",
       "2     GP   F   15       U     LE3       T     1     1  at_home     other  ...   \n",
       "3     GP   F   15       U     GT3       T     4     2   health  services  ...   \n",
       "4     GP   F   16       U     GT3       T     3     3    other     other  ...   \n",
       "\n",
       "  famrel freetime  goout  Dalc  Walc health absences  G1  G2  G3  \n",
       "0      4        3      4     1     1      3        4   0  11  11  \n",
       "1      5        3      3     1     1      3        2   9  11  11  \n",
       "2      4        3      2     2     3      3        6  12  13  12  \n",
       "3      3        2      2     1     1      5        0  14  14  14  \n",
       "4      4        3      2     1     2      5        0  11  13  13  \n",
       "\n",
       "[5 rows x 33 columns]"
      ]
     },
     "execution_count": 157,
     "metadata": {},
     "output_type": "execute_result"
    }
   ],
   "source": [
    "por = pd.read_csv('student/student-por.csv', delimiter=';')\n",
    "por.head()"
   ]
  },
  {
   "cell_type": "code",
   "execution_count": 158,
   "id": "81d23aa1",
   "metadata": {},
   "outputs": [
    {
     "data": {
      "text/html": [
       "<div>\n",
       "<style scoped>\n",
       "    .dataframe tbody tr th:only-of-type {\n",
       "        vertical-align: middle;\n",
       "    }\n",
       "\n",
       "    .dataframe tbody tr th {\n",
       "        vertical-align: top;\n",
       "    }\n",
       "\n",
       "    .dataframe thead th {\n",
       "        text-align: right;\n",
       "    }\n",
       "</style>\n",
       "<table border=\"1\" class=\"dataframe\">\n",
       "  <thead>\n",
       "    <tr style=\"text-align: right;\">\n",
       "      <th></th>\n",
       "      <th>age</th>\n",
       "      <th>Medu</th>\n",
       "    </tr>\n",
       "  </thead>\n",
       "  <tbody>\n",
       "    <tr>\n",
       "      <th>0</th>\n",
       "      <td>0.976187</td>\n",
       "      <td>0.216930</td>\n",
       "    </tr>\n",
       "    <tr>\n",
       "      <th>1</th>\n",
       "      <td>0.998274</td>\n",
       "      <td>0.058722</td>\n",
       "    </tr>\n",
       "    <tr>\n",
       "      <th>2</th>\n",
       "      <td>0.997785</td>\n",
       "      <td>0.066519</td>\n",
       "    </tr>\n",
       "    <tr>\n",
       "      <th>3</th>\n",
       "      <td>0.966235</td>\n",
       "      <td>0.257663</td>\n",
       "    </tr>\n",
       "    <tr>\n",
       "      <th>4</th>\n",
       "      <td>0.982872</td>\n",
       "      <td>0.184289</td>\n",
       "    </tr>\n",
       "    <tr>\n",
       "      <th>...</th>\n",
       "      <td>...</td>\n",
       "      <td>...</td>\n",
       "    </tr>\n",
       "    <tr>\n",
       "      <th>644</th>\n",
       "      <td>0.994505</td>\n",
       "      <td>0.104685</td>\n",
       "    </tr>\n",
       "    <tr>\n",
       "      <th>645</th>\n",
       "      <td>0.986394</td>\n",
       "      <td>0.164399</td>\n",
       "    </tr>\n",
       "    <tr>\n",
       "      <th>646</th>\n",
       "      <td>0.998460</td>\n",
       "      <td>0.055470</td>\n",
       "    </tr>\n",
       "    <tr>\n",
       "      <th>647</th>\n",
       "      <td>0.984784</td>\n",
       "      <td>0.173785</td>\n",
       "    </tr>\n",
       "    <tr>\n",
       "      <th>648</th>\n",
       "      <td>0.986394</td>\n",
       "      <td>0.164399</td>\n",
       "    </tr>\n",
       "  </tbody>\n",
       "</table>\n",
       "<p>649 rows × 2 columns</p>\n",
       "</div>"
      ],
      "text/plain": [
       "          age      Medu\n",
       "0    0.976187  0.216930\n",
       "1    0.998274  0.058722\n",
       "2    0.997785  0.066519\n",
       "3    0.966235  0.257663\n",
       "4    0.982872  0.184289\n",
       "..        ...       ...\n",
       "644  0.994505  0.104685\n",
       "645  0.986394  0.164399\n",
       "646  0.998460  0.055470\n",
       "647  0.984784  0.173785\n",
       "648  0.986394  0.164399\n",
       "\n",
       "[649 rows x 2 columns]"
      ]
     },
     "execution_count": 158,
     "metadata": {},
     "output_type": "execute_result"
    }
   ],
   "source": [
    "test = por[['age','Medu']]\n",
    "pd.DataFrame(preprocessing.normalize(test), columns=list(test.columns))"
   ]
  },
  {
   "cell_type": "code",
   "execution_count": 159,
   "id": "4b63e2d4",
   "metadata": {},
   "outputs": [
    {
     "data": {
      "text/html": [
       "<div>\n",
       "<style scoped>\n",
       "    .dataframe tbody tr th:only-of-type {\n",
       "        vertical-align: middle;\n",
       "    }\n",
       "\n",
       "    .dataframe tbody tr th {\n",
       "        vertical-align: top;\n",
       "    }\n",
       "\n",
       "    .dataframe thead th {\n",
       "        text-align: right;\n",
       "    }\n",
       "</style>\n",
       "<table border=\"1\" class=\"dataframe\">\n",
       "  <thead>\n",
       "    <tr style=\"text-align: right;\">\n",
       "      <th></th>\n",
       "      <th>school</th>\n",
       "      <th>sex</th>\n",
       "      <th>age</th>\n",
       "      <th>address</th>\n",
       "      <th>famsize</th>\n",
       "      <th>Pstatus</th>\n",
       "      <th>Medu</th>\n",
       "      <th>Fedu</th>\n",
       "      <th>Mjob</th>\n",
       "      <th>Fjob</th>\n",
       "      <th>...</th>\n",
       "      <th>famrel</th>\n",
       "      <th>freetime</th>\n",
       "      <th>goout</th>\n",
       "      <th>Dalc</th>\n",
       "      <th>Walc</th>\n",
       "      <th>health</th>\n",
       "      <th>absences</th>\n",
       "      <th>G1</th>\n",
       "      <th>G2</th>\n",
       "      <th>G3</th>\n",
       "    </tr>\n",
       "  </thead>\n",
       "  <tbody>\n",
       "    <tr>\n",
       "      <th>0</th>\n",
       "      <td>GP</td>\n",
       "      <td>F</td>\n",
       "      <td>18</td>\n",
       "      <td>U</td>\n",
       "      <td>GT3</td>\n",
       "      <td>A</td>\n",
       "      <td>4</td>\n",
       "      <td>4</td>\n",
       "      <td>at_home</td>\n",
       "      <td>teacher</td>\n",
       "      <td>...</td>\n",
       "      <td>4</td>\n",
       "      <td>3</td>\n",
       "      <td>4</td>\n",
       "      <td>1</td>\n",
       "      <td>1</td>\n",
       "      <td>3</td>\n",
       "      <td>6</td>\n",
       "      <td>5</td>\n",
       "      <td>6</td>\n",
       "      <td>6</td>\n",
       "    </tr>\n",
       "    <tr>\n",
       "      <th>1</th>\n",
       "      <td>GP</td>\n",
       "      <td>F</td>\n",
       "      <td>17</td>\n",
       "      <td>U</td>\n",
       "      <td>GT3</td>\n",
       "      <td>T</td>\n",
       "      <td>1</td>\n",
       "      <td>1</td>\n",
       "      <td>at_home</td>\n",
       "      <td>other</td>\n",
       "      <td>...</td>\n",
       "      <td>5</td>\n",
       "      <td>3</td>\n",
       "      <td>3</td>\n",
       "      <td>1</td>\n",
       "      <td>1</td>\n",
       "      <td>3</td>\n",
       "      <td>4</td>\n",
       "      <td>5</td>\n",
       "      <td>5</td>\n",
       "      <td>6</td>\n",
       "    </tr>\n",
       "    <tr>\n",
       "      <th>2</th>\n",
       "      <td>GP</td>\n",
       "      <td>F</td>\n",
       "      <td>15</td>\n",
       "      <td>U</td>\n",
       "      <td>LE3</td>\n",
       "      <td>T</td>\n",
       "      <td>1</td>\n",
       "      <td>1</td>\n",
       "      <td>at_home</td>\n",
       "      <td>other</td>\n",
       "      <td>...</td>\n",
       "      <td>4</td>\n",
       "      <td>3</td>\n",
       "      <td>2</td>\n",
       "      <td>2</td>\n",
       "      <td>3</td>\n",
       "      <td>3</td>\n",
       "      <td>10</td>\n",
       "      <td>7</td>\n",
       "      <td>8</td>\n",
       "      <td>10</td>\n",
       "    </tr>\n",
       "    <tr>\n",
       "      <th>3</th>\n",
       "      <td>GP</td>\n",
       "      <td>F</td>\n",
       "      <td>15</td>\n",
       "      <td>U</td>\n",
       "      <td>GT3</td>\n",
       "      <td>T</td>\n",
       "      <td>4</td>\n",
       "      <td>2</td>\n",
       "      <td>health</td>\n",
       "      <td>services</td>\n",
       "      <td>...</td>\n",
       "      <td>3</td>\n",
       "      <td>2</td>\n",
       "      <td>2</td>\n",
       "      <td>1</td>\n",
       "      <td>1</td>\n",
       "      <td>5</td>\n",
       "      <td>2</td>\n",
       "      <td>15</td>\n",
       "      <td>14</td>\n",
       "      <td>15</td>\n",
       "    </tr>\n",
       "    <tr>\n",
       "      <th>4</th>\n",
       "      <td>GP</td>\n",
       "      <td>F</td>\n",
       "      <td>16</td>\n",
       "      <td>U</td>\n",
       "      <td>GT3</td>\n",
       "      <td>T</td>\n",
       "      <td>3</td>\n",
       "      <td>3</td>\n",
       "      <td>other</td>\n",
       "      <td>other</td>\n",
       "      <td>...</td>\n",
       "      <td>4</td>\n",
       "      <td>3</td>\n",
       "      <td>2</td>\n",
       "      <td>1</td>\n",
       "      <td>2</td>\n",
       "      <td>5</td>\n",
       "      <td>4</td>\n",
       "      <td>6</td>\n",
       "      <td>10</td>\n",
       "      <td>10</td>\n",
       "    </tr>\n",
       "  </tbody>\n",
       "</table>\n",
       "<p>5 rows × 33 columns</p>\n",
       "</div>"
      ],
      "text/plain": [
       "  school sex  age address famsize Pstatus  Medu  Fedu     Mjob      Fjob  ...  \\\n",
       "0     GP   F   18       U     GT3       A     4     4  at_home   teacher  ...   \n",
       "1     GP   F   17       U     GT3       T     1     1  at_home     other  ...   \n",
       "2     GP   F   15       U     LE3       T     1     1  at_home     other  ...   \n",
       "3     GP   F   15       U     GT3       T     4     2   health  services  ...   \n",
       "4     GP   F   16       U     GT3       T     3     3    other     other  ...   \n",
       "\n",
       "  famrel freetime  goout  Dalc  Walc health absences  G1  G2  G3  \n",
       "0      4        3      4     1     1      3        6   5   6   6  \n",
       "1      5        3      3     1     1      3        4   5   5   6  \n",
       "2      4        3      2     2     3      3       10   7   8  10  \n",
       "3      3        2      2     1     1      5        2  15  14  15  \n",
       "4      4        3      2     1     2      5        4   6  10  10  \n",
       "\n",
       "[5 rows x 33 columns]"
      ]
     },
     "execution_count": 159,
     "metadata": {},
     "output_type": "execute_result"
    }
   ],
   "source": [
    "mat = pd.read_csv('student/student-mat.csv', delimiter=';')\n",
    "mat.head()"
   ]
  },
  {
   "cell_type": "markdown",
   "id": "467ebdf2",
   "metadata": {},
   "source": [
    "want to predict G3 - final grade (numeric: from 0 to 20, output target)"
   ]
  },
  {
   "cell_type": "code",
   "execution_count": 160,
   "id": "714c5118",
   "metadata": {},
   "outputs": [],
   "source": [
    "data = pd.merge(por, mat, on=[\"school\",\"sex\",\"age\",\"address\",\"famsize\",\"Pstatus\",\"Medu\",\"Fedu\",\"Mjob\",\"Fjob\",\"reason\",\"nursery\",\"internet\"], suffixes=['_por','_mat'])"
   ]
  },
  {
   "cell_type": "code",
   "execution_count": 161,
   "id": "ec030a3b",
   "metadata": {},
   "outputs": [
    {
     "data": {
      "text/plain": [
       "Index(['school', 'sex', 'age', 'address', 'famsize', 'Pstatus', 'Medu', 'Fedu',\n",
       "       'Mjob', 'Fjob', 'reason', 'guardian_por', 'traveltime_por',\n",
       "       'studytime_por', 'failures_por', 'schoolsup_por', 'famsup_por',\n",
       "       'paid_por', 'activities_por', 'nursery', 'higher_por', 'internet',\n",
       "       'romantic_por', 'famrel_por', 'freetime_por', 'goout_por', 'Dalc_por',\n",
       "       'Walc_por', 'health_por', 'absences_por', 'G1_por', 'G2_por', 'G3_por',\n",
       "       'guardian_mat', 'traveltime_mat', 'studytime_mat', 'failures_mat',\n",
       "       'schoolsup_mat', 'famsup_mat', 'paid_mat', 'activities_mat',\n",
       "       'higher_mat', 'romantic_mat', 'famrel_mat', 'freetime_mat', 'goout_mat',\n",
       "       'Dalc_mat', 'Walc_mat', 'health_mat', 'absences_mat', 'G1_mat',\n",
       "       'G2_mat', 'G3_mat'],\n",
       "      dtype='object')"
      ]
     },
     "execution_count": 161,
     "metadata": {},
     "output_type": "execute_result"
    }
   ],
   "source": [
    "data.columns"
   ]
  },
  {
   "cell_type": "markdown",
   "id": "e8a8a90b",
   "metadata": {},
   "source": [
    "1 school - student's school (binary: 'GP' - Gabriel Pereira or 'MS' - Mousinho da Silveira)   \n",
    "2 sex - student's sex (binary: 'F' - female or 'M' - male)   \n",
    "3 age - student's age (numeric: from 15 to 22)   \n",
    "4 address - student's home address type (binary: 'U' - urban or 'R' - rural)   \n",
    "5 famsize - family size (binary: 'LE3' - less or equal to 3 or 'GT3' - greater than 3)   \n",
    "6 Pstatus - parent's cohabitation status (binary: 'T' - living together or 'A' - apart)   \n",
    "7 Medu - mother's education (numeric: 0 - none, 1 - primary education (4th grade), 2 â€“ 5th to 9th grade, 3 â€“ secondary education or 4 â€“ higher education)    \n",
    "8 Fedu - father's education (numeric: 0 - none, 1 - primary education (4th grade), 2 â€“ 5th to 9th grade, 3 â€“ secondary education or 4 â€“ higher education)   \n",
    "9 Mjob - mother's job (nominal: 'teacher', 'health' care related, civil 'services' (e.g. administrative or police), 'at_home' or 'other')   \n",
    "10 Fjob - father's job (nominal: 'teacher', 'health' care related, civil 'services' (e.g. administrative or police), 'at_home' or 'other')   \n",
    "11 reason - reason to choose this school (nominal: close to 'home', school 'reputation', 'course' preference or 'other')   \n",
    "12 guardian - student's guardian (nominal: 'mother', 'father' or 'other')    \n",
    "13 traveltime - home to school travel time (numeric: 1 - <15 min., 2 - 15 to 30 min., 3 - 30 min. to 1 hour, or 4 - >1 hour)    \n",
    "14 studytime - weekly study time (numeric: 1 - <2 hours, 2 - 2 to 5 hours, 3 - 5 to 10 hours, or 4 - >10 hours)    \n",
    "15 failures - number of past class failures (numeric: n if 1<=n<3, else 4)   \n",
    "16 schoolsup - extra educational support (binary: yes or no)    \n",
    "17 famsup - family educational support (binary: yes or no)    \n",
    "18 paid - extra paid classes within the course subject (Math or Portuguese) (binary: yes or no)    \n",
    "19 activities - extra-curricular activities (binary: yes or no)   \n",
    "20 nursery - attended nursery school (binary: yes or no)    \n",
    "21 higher - wants to take higher education (binary: yes or no)    \n",
    "22 internet - Internet access at home (binary: yes or no)    \n",
    "23 romantic - with a romantic relationship (binary: yes or no)    \n",
    "24 famrel - quality of family relationships (numeric: from 1 - very bad to 5 - excellent)    \n",
    "25 freetime - free time after school (numeric: from 1 - very low to 5 - very high)    \n",
    "26 goout - going out with friends (numeric: from 1 - very low to 5 - very high)    \n",
    "27 Dalc - workday alcohol consumption (numeric: from 1 - very low to 5 - very high)    \n",
    "28 Walc - weekend alcohol consumption (numeric: from 1 - very low to 5 - very high)    \n",
    "29 health - current health status (numeric: from 1 - very bad to 5 - very good)    \n",
    "30 absences - number of school absences (numeric: from 0 to 93)   \n",
    "\n",
    "these grades are related with the course subject, Math or Portuguese:   \n",
    "31 G1 - first period grade (numeric: from 0 to 20)   \n",
    "31 G2 - second period grade (numeric: from 0 to 20)   \n",
    "32 G3 - final grade (numeric: from 0 to 20, output target)   \n",
    "\n"
   ]
  },
  {
   "cell_type": "code",
   "execution_count": 162,
   "id": "3df9bf47",
   "metadata": {},
   "outputs": [],
   "source": [
    "# binary_yn = ['schoolsup_por', 'famsup_por', 'paid_por', 'activities_por', 'nursery', 'higher_por', 'internet',\n",
    "#        'romantic_por', 'schoolsup_mat', 'famsup_mat', 'paid_mat', 'activities_mat', 'higher_mat', 'romantic_mat']\n",
    "\n",
    "# for feat in binary_yn:\n",
    "#     data[feat] = data[feat].map({'yes': 1, 'no': 0})"
   ]
  },
  {
   "cell_type": "code",
   "execution_count": 163,
   "id": "e42d9d75",
   "metadata": {},
   "outputs": [],
   "source": [
    "# protected features\n",
    "data['sex'] = data['sex'].map({'F': 0, 'M': 1})\n",
    "data['age'] = data['age'].apply(lambda x: 1 if x > 18 else 0)"
   ]
  },
  {
   "cell_type": "code",
   "execution_count": 164,
   "id": "ebd56385",
   "metadata": {},
   "outputs": [
    {
     "data": {
      "text/plain": [
       "Index(['school', 'sex', 'age', 'address', 'famsize', 'Pstatus', 'Medu', 'Fedu',\n",
       "       'Mjob', 'Fjob', 'reason', 'guardian_por', 'traveltime_por',\n",
       "       'studytime_por', 'failures_por', 'schoolsup_por', 'famsup_por',\n",
       "       'paid_por', 'activities_por', 'nursery', 'higher_por', 'internet',\n",
       "       'romantic_por', 'famrel_por', 'freetime_por', 'goout_por', 'Dalc_por',\n",
       "       'Walc_por', 'health_por', 'absences_por', 'G1_por', 'G2_por', 'G3_por',\n",
       "       'guardian_mat', 'traveltime_mat', 'studytime_mat', 'failures_mat',\n",
       "       'schoolsup_mat', 'famsup_mat', 'paid_mat', 'activities_mat',\n",
       "       'higher_mat', 'romantic_mat', 'famrel_mat', 'freetime_mat', 'goout_mat',\n",
       "       'Dalc_mat', 'Walc_mat', 'health_mat', 'absences_mat', 'G1_mat',\n",
       "       'G2_mat', 'G3_mat'],\n",
       "      dtype='object')"
      ]
     },
     "execution_count": 164,
     "metadata": {},
     "output_type": "execute_result"
    }
   ],
   "source": [
    "data.columns"
   ]
  },
  {
   "cell_type": "code",
   "execution_count": 165,
   "id": "693f8743",
   "metadata": {},
   "outputs": [
    {
     "data": {
      "text/plain": [
       "382"
      ]
     },
     "execution_count": 165,
     "metadata": {},
     "output_type": "execute_result"
    }
   ],
   "source": [
    "len(data)"
   ]
  },
  {
   "cell_type": "markdown",
   "id": "37dcdcd3",
   "metadata": {},
   "source": [
    "## Exploratory Data Analysis "
   ]
  },
  {
   "cell_type": "code",
   "execution_count": 166,
   "id": "d952df54",
   "metadata": {},
   "outputs": [],
   "source": [
    "import matplotlib.pyplot as plt\n",
    "import seaborn as sns"
   ]
  },
  {
   "cell_type": "code",
   "execution_count": 167,
   "id": "0f8f672d",
   "metadata": {},
   "outputs": [
    {
     "data": {
      "text/plain": [
       "Index(['school', 'sex', 'age', 'address', 'famsize', 'Pstatus', 'Medu', 'Fedu',\n",
       "       'Mjob', 'Fjob', 'reason', 'guardian_por', 'traveltime_por',\n",
       "       'studytime_por', 'failures_por', 'schoolsup_por', 'famsup_por',\n",
       "       'paid_por', 'activities_por', 'nursery', 'higher_por', 'internet',\n",
       "       'romantic_por', 'famrel_por', 'freetime_por', 'goout_por', 'Dalc_por',\n",
       "       'Walc_por', 'health_por', 'absences_por', 'G1_por', 'G2_por', 'G3_por',\n",
       "       'guardian_mat', 'traveltime_mat', 'studytime_mat', 'failures_mat',\n",
       "       'schoolsup_mat', 'famsup_mat', 'paid_mat', 'activities_mat',\n",
       "       'higher_mat', 'romantic_mat', 'famrel_mat', 'freetime_mat', 'goout_mat',\n",
       "       'Dalc_mat', 'Walc_mat', 'health_mat', 'absences_mat', 'G1_mat',\n",
       "       'G2_mat', 'G3_mat'],\n",
       "      dtype='object')"
      ]
     },
     "execution_count": 167,
     "metadata": {},
     "output_type": "execute_result"
    }
   ],
   "source": [
    "\n",
    "females = data[data.sex==0]\n",
    "males = data[data.sex==1]\n",
    "data.columns"
   ]
  },
  {
   "cell_type": "code",
   "execution_count": 168,
   "id": "445f4610",
   "metadata": {},
   "outputs": [
    {
     "data": {
      "image/png": "[encoded data removed]",
      "text/plain": [
       "<Figure size 432x288 with 1 Axes>"
      ]
     },
     "metadata": {
      "needs_background": "light"
     },
     "output_type": "display_data"
    }
   ],
   "source": [
    "plt.hist(data.G3_mat)\n",
    "plt.xlabel('Final Math Grade')\n",
    "plt.show()"
   ]
  },
  {
   "cell_type": "code",
   "execution_count": 169,
   "id": "57dba643",
   "metadata": {},
   "outputs": [
    {
     "name": "stdout",
     "output_type": "stream",
     "text": [
      "Math grades for all students\n",
      "Min: 0.000\n",
      "Q1: 8.000\n",
      "Median: 11.000\n",
      "Q3: 14.000\n",
      "Max: 20.000\n"
     ]
    }
   ],
   "source": [
    "# calculate a 5-number summary\n",
    "from numpy import percentile\n",
    "from numpy.random import rand\n",
    "# generate data sample\n",
    "sum_data = data.G3_mat\n",
    "# calculate quartiles\n",
    "quartiles = percentile(sum_data, [25, 50, 75])\n",
    "# calculate min/max\n",
    "data_min, data_max = sum_data.min(), sum_data.max()\n",
    "# print 5-number summary\n",
    "print('Math grades for all students')\n",
    "print('Min: %.3f' % data_min)\n",
    "print('Q1: %.3f' % quartiles[0])\n",
    "print('Median: %.3f' % quartiles[1])\n",
    "print('Q3: %.3f' % quartiles[2])\n",
    "print('Max: %.3f' % data_max)"
   ]
  },
  {
   "cell_type": "code",
   "execution_count": 170,
   "id": "20da1761",
   "metadata": {},
   "outputs": [
    {
     "data": {
      "text/plain": [
       "10.387434554973822"
      ]
     },
     "execution_count": 170,
     "metadata": {},
     "output_type": "execute_result"
    }
   ],
   "source": [
    "np.mean(sum_data)"
   ]
  },
  {
   "cell_type": "code",
   "execution_count": 171,
   "id": "c8258405",
   "metadata": {},
   "outputs": [
    {
     "name": "stdout",
     "output_type": "stream",
     "text": [
      "Math grades for female students\n",
      "Min: 0.000\n",
      "Q1: 8.000\n",
      "Median: 10.000\n",
      "Q3: 13.000\n",
      "Max: 19.000\n"
     ]
    }
   ],
   "source": [
    "# generate data sample\n",
    "sum_data = females.G3_mat\n",
    "# calculate quartiles\n",
    "quartiles = percentile(sum_data, [25, 50, 75], interpolation='lower')\n",
    "# calculate min/max\n",
    "data_min, data_max = sum_data.min(), sum_data.max()\n",
    "# print 5-number summary\n",
    "print('Math grades for female students')\n",
    "print('Min: %.3f' % data_min)\n",
    "print('Q1: %.3f' % quartiles[0])\n",
    "print('Median: %.3f' % quartiles[1])\n",
    "print('Q3: %.3f' % quartiles[2])\n",
    "print('Max: %.3f' % data_max)"
   ]
  },
  {
   "cell_type": "code",
   "execution_count": 172,
   "id": "b34fdfc5",
   "metadata": {},
   "outputs": [
    {
     "name": "stdout",
     "output_type": "stream",
     "text": [
      "Math grades for male students\n",
      "Min: 0.000\n",
      "Q1: 9.000\n",
      "Median: 11.000\n",
      "Q3: 14.000\n",
      "Max: 20.000\n"
     ]
    }
   ],
   "source": [
    "# generate data sample\n",
    "sum_data = males.G3_mat\n",
    "# calculate quartiles\n",
    "quartiles = percentile(sum_data, [25, 50, 75])\n",
    "# calculate min/max\n",
    "data_min, data_max = sum_data.min(), sum_data.max()\n",
    "# print 5-number summary\n",
    "print('Math grades for male students')\n",
    "print('Min: %.3f' % data_min)\n",
    "print('Q1: %.3f' % quartiles[0])\n",
    "print('Median: %.3f' % quartiles[1])\n",
    "print('Q3: %.3f' % quartiles[2])\n",
    "print('Max: %.3f' % data_max)"
   ]
  },
  {
   "cell_type": "code",
   "execution_count": 173,
   "id": "34747bf4",
   "metadata": {},
   "outputs": [
    {
     "data": {
      "image/png": "[encoded data removed]",
      "text/plain": [
       "<Figure size 432x288 with 1 Axes>"
      ]
     },
     "metadata": {
      "needs_background": "light"
     },
     "output_type": "display_data"
    }
   ],
   "source": [
    "plt.hist(data.G3_por)\n",
    "plt.xlabel('Final Portuguese Grade')\n",
    "plt.show()"
   ]
  },
  {
   "cell_type": "code",
   "execution_count": 174,
   "id": "e873f311",
   "metadata": {},
   "outputs": [
    {
     "name": "stdout",
     "output_type": "stream",
     "text": [
      "Min: 0.000\n",
      "Q1: 11.000\n",
      "Median: 13.000\n",
      "Q3: 14.000\n",
      "Max: 19.000\n"
     ]
    }
   ],
   "source": [
    "sum_data = data.G3_por\n",
    "# calculate quartiles\n",
    "quartiles = percentile(sum_data, [25, 50, 75])\n",
    "# calculate min/max\n",
    "data_min, data_max = sum_data.min(), sum_data.max()\n",
    "# print 5-number summary\n",
    "print('Min: %.3f' % data_min)\n",
    "print('Q1: %.3f' % quartiles[0])\n",
    "print('Median: %.3f' % quartiles[1])\n",
    "print('Q3: %.3f' % quartiles[2])\n",
    "print('Max: %.3f' % data_max)"
   ]
  },
  {
   "cell_type": "code",
   "execution_count": 175,
   "id": "081c10e0",
   "metadata": {},
   "outputs": [
    {
     "data": {
      "text/plain": [
       "12.515706806282722"
      ]
     },
     "execution_count": 175,
     "metadata": {},
     "output_type": "execute_result"
    }
   ],
   "source": [
    "np.mean(sum_data)"
   ]
  },
  {
   "cell_type": "code",
   "execution_count": 176,
   "id": "c0fbb194",
   "metadata": {},
   "outputs": [
    {
     "name": "stdout",
     "output_type": "stream",
     "text": [
      "Portuguese grades for female students\n",
      "Min: 0.000\n",
      "Q1: 12.000\n",
      "Median: 13.000\n",
      "Q3: 15.000\n",
      "Max: 19.000\n"
     ]
    }
   ],
   "source": [
    "sum_data = females.G3_por\n",
    "# calculate quartiles\n",
    "quartiles = percentile(sum_data, [25, 50, 75])\n",
    "# calculate min/max\n",
    "data_min, data_max = sum_data.min(), sum_data.max()\n",
    "# print 5-number summary\n",
    "print('Portuguese grades for female students')\n",
    "print('Min: %.3f' % data_min)\n",
    "print('Q1: %.3f' % quartiles[0])\n",
    "print('Median: %.3f' % quartiles[1])\n",
    "print('Q3: %.3f' % quartiles[2])\n",
    "print('Max: %.3f' % data_max)"
   ]
  },
  {
   "cell_type": "code",
   "execution_count": 177,
   "id": "ebcf7cf9",
   "metadata": {},
   "outputs": [
    {
     "name": "stdout",
     "output_type": "stream",
     "text": [
      "Portuguese grades for male students\n",
      "Min: 0.000\n",
      "Q1: 10.000\n",
      "Median: 12.000\n",
      "Q3: 14.000\n",
      "Max: 19.000\n"
     ]
    }
   ],
   "source": [
    "sum_data = males.G3_por\n",
    "# calculate quartiles\n",
    "quartiles = percentile(sum_data, [25, 50, 75])\n",
    "# calculate min/max\n",
    "data_min, data_max = sum_data.min(), sum_data.max()\n",
    "# print 5-number summary\n",
    "print('Portuguese grades for male students')\n",
    "print('Min: %.3f' % data_min)\n",
    "print('Q1: %.3f' % quartiles[0])\n",
    "print('Median: %.3f' % quartiles[1])\n",
    "print('Q3: %.3f' % quartiles[2])\n",
    "print('Max: %.3f' % data_max)"
   ]
  },
  {
   "cell_type": "code",
   "execution_count": 178,
   "id": "48822bc8",
   "metadata": {},
   "outputs": [
    {
     "data": {
      "image/png": "[encoded data removed]",
      "text/plain": [
       "<Figure size 432x288 with 1 Axes>"
      ]
     },
     "metadata": {
      "needs_background": "light"
     },
     "output_type": "display_data"
    }
   ],
   "source": [
    "\n",
    "\n",
    "x = ['Female', 'Male']\n",
    "y = [len(data[data.sex==0]), len(data[data.sex==1])]\n",
    "x_pos = [i for i, _ in enumerate(x)]\n",
    "plt.bar(x_pos, y)\n",
    "plt.xlabel('Gender')\n",
    "plt.ylabel('Number of Students')\n",
    "plt.xticks(x_pos, x)\n",
    "plt.title('Student-Gender Distribution')\n",
    "plt.show()"
   ]
  },
  {
   "cell_type": "code",
   "execution_count": 179,
   "id": "5876abf2",
   "metadata": {},
   "outputs": [
    {
     "data": {
      "text/plain": [
       "(198, 184)"
      ]
     },
     "execution_count": 179,
     "metadata": {},
     "output_type": "execute_result"
    }
   ],
   "source": [
    "len(females), len(males)"
   ]
  },
  {
   "cell_type": "code",
   "execution_count": 180,
   "id": "f86ecbc7",
   "metadata": {},
   "outputs": [
    {
     "data": {
      "text/plain": [
       "382"
      ]
     },
     "execution_count": 180,
     "metadata": {},
     "output_type": "execute_result"
    }
   ],
   "source": [
    "len(data)"
   ]
  },
  {
   "cell_type": "code",
   "execution_count": 181,
   "id": "1a2eeb60",
   "metadata": {
    "scrolled": true
   },
   "outputs": [
    {
     "data": {
      "image/png": "[encoded data removed]",
      "text/plain": [
       "<Figure size 432x288 with 1 Axes>"
      ]
     },
     "metadata": {
      "needs_background": "light"
     },
     "output_type": "display_data"
    }
   ],
   "source": [
    "plt.hist(data.G3_por, label = 'all students')\n",
    "plt.title('Final Portuguese Grades')\n",
    "plt.legend(loc='upper left')\n",
    "plt.show()"
   ]
  },
  {
   "cell_type": "code",
   "execution_count": 182,
   "id": "ca0f5a7a",
   "metadata": {},
   "outputs": [
    {
     "data": {
      "image/png": "[encoded data removed]",
      "text/plain": [
       "<Figure size 432x288 with 1 Axes>"
      ]
     },
     "metadata": {
      "needs_background": "light"
     },
     "output_type": "display_data"
    }
   ],
   "source": [
    "females = data[data.sex==0]\n",
    "males = data[data.sex==1]\n",
    "\n",
    "plt.hist(females.G3_por, label = 'females')\n",
    "plt.hist(males.G3_por, label = 'males')\n",
    "plt.title('Final Portuguese Grades')\n",
    "plt.legend(loc='upper left')\n",
    "plt.savefig('por_hist')\n",
    "plt.show()\n"
   ]
  },
  {
   "cell_type": "code",
   "execution_count": 183,
   "id": "361b6481",
   "metadata": {},
   "outputs": [
    {
     "data": {
      "image/png": "[encoded data removed]",
      "text/plain": [
       "<Figure size 432x288 with 1 Axes>"
      ]
     },
     "metadata": {
      "needs_background": "light"
     },
     "output_type": "display_data"
    }
   ],
   "source": [
    "plt.hist(females.G3_mat, label = 'females')\n",
    "plt.hist(males.G3_mat, label = 'males')\n",
    "plt.title('Final Math Grades')\n",
    "plt.legend(loc='upper left')\n",
    "plt.savefig('mat_hist')\n",
    "plt.show()\n"
   ]
  },
  {
   "cell_type": "markdown",
   "id": "4a60b59a",
   "metadata": {},
   "source": [
    "To make this a classification task, bin G3 grades into 0: <= 10 and 1: >10"
   ]
  },
  {
   "cell_type": "code",
   "execution_count": 184,
   "id": "6d77531b",
   "metadata": {},
   "outputs": [],
   "source": [
    "data['G3_por_bin'] = data['G3_por'].apply(lambda x: 1 if x > 10 else 0)\n",
    "data['G3_mat_bin'] = data['G3_mat'].apply(lambda x: 1 if x > 10 else 0)"
   ]
  },
  {
   "cell_type": "code",
   "execution_count": 185,
   "id": "485ad87e",
   "metadata": {},
   "outputs": [
    {
     "data": {
      "text/html": [
       "<div>\n",
       "<style scoped>\n",
       "    .dataframe tbody tr th:only-of-type {\n",
       "        vertical-align: middle;\n",
       "    }\n",
       "\n",
       "    .dataframe tbody tr th {\n",
       "        vertical-align: top;\n",
       "    }\n",
       "\n",
       "    .dataframe thead th {\n",
       "        text-align: right;\n",
       "    }\n",
       "</style>\n",
       "<table border=\"1\" class=\"dataframe\">\n",
       "  <thead>\n",
       "    <tr style=\"text-align: right;\">\n",
       "      <th>sex</th>\n",
       "      <th>0</th>\n",
       "      <th>1</th>\n",
       "      <th>All</th>\n",
       "    </tr>\n",
       "    <tr>\n",
       "      <th>G3_por_bin</th>\n",
       "      <th></th>\n",
       "      <th></th>\n",
       "      <th></th>\n",
       "    </tr>\n",
       "  </thead>\n",
       "  <tbody>\n",
       "    <tr>\n",
       "      <th>0</th>\n",
       "      <td>26</td>\n",
       "      <td>52</td>\n",
       "      <td>78</td>\n",
       "    </tr>\n",
       "    <tr>\n",
       "      <th>1</th>\n",
       "      <td>172</td>\n",
       "      <td>132</td>\n",
       "      <td>304</td>\n",
       "    </tr>\n",
       "    <tr>\n",
       "      <th>All</th>\n",
       "      <td>198</td>\n",
       "      <td>184</td>\n",
       "      <td>382</td>\n",
       "    </tr>\n",
       "  </tbody>\n",
       "</table>\n",
       "</div>"
      ],
      "text/plain": [
       "sex           0    1  All\n",
       "G3_por_bin               \n",
       "0            26   52   78\n",
       "1           172  132  304\n",
       "All         198  184  382"
      ]
     },
     "execution_count": 185,
     "metadata": {},
     "output_type": "execute_result"
    }
   ],
   "source": [
    "pd.crosstab(data.G3_por_bin, data.sex,margins=True)"
   ]
  },
  {
   "cell_type": "code",
   "execution_count": 186,
   "id": "deeb5f15",
   "metadata": {},
   "outputs": [
    {
     "data": {
      "text/html": [
       "<div>\n",
       "<style scoped>\n",
       "    .dataframe tbody tr th:only-of-type {\n",
       "        vertical-align: middle;\n",
       "    }\n",
       "\n",
       "    .dataframe tbody tr th {\n",
       "        vertical-align: top;\n",
       "    }\n",
       "\n",
       "    .dataframe thead th {\n",
       "        text-align: right;\n",
       "    }\n",
       "</style>\n",
       "<table border=\"1\" class=\"dataframe\">\n",
       "  <thead>\n",
       "    <tr style=\"text-align: right;\">\n",
       "      <th>sex</th>\n",
       "      <th>0</th>\n",
       "      <th>1</th>\n",
       "      <th>All</th>\n",
       "    </tr>\n",
       "    <tr>\n",
       "      <th>G3_mat_bin</th>\n",
       "      <th></th>\n",
       "      <th></th>\n",
       "      <th></th>\n",
       "    </tr>\n",
       "  </thead>\n",
       "  <tbody>\n",
       "    <tr>\n",
       "      <th>0</th>\n",
       "      <td>105</td>\n",
       "      <td>78</td>\n",
       "      <td>183</td>\n",
       "    </tr>\n",
       "    <tr>\n",
       "      <th>1</th>\n",
       "      <td>93</td>\n",
       "      <td>106</td>\n",
       "      <td>199</td>\n",
       "    </tr>\n",
       "    <tr>\n",
       "      <th>All</th>\n",
       "      <td>198</td>\n",
       "      <td>184</td>\n",
       "      <td>382</td>\n",
       "    </tr>\n",
       "  </tbody>\n",
       "</table>\n",
       "</div>"
      ],
      "text/plain": [
       "sex           0    1  All\n",
       "G3_mat_bin               \n",
       "0           105   78  183\n",
       "1            93  106  199\n",
       "All         198  184  382"
      ]
     },
     "execution_count": 186,
     "metadata": {},
     "output_type": "execute_result"
    }
   ],
   "source": [
    "pd.crosstab(data.G3_mat_bin, data.sex,margins=True)"
   ]
  },
  {
   "cell_type": "markdown",
   "id": "f7501e7d",
   "metadata": {},
   "source": [
    "## Preliminary Analysis: Explore fairness in data"
   ]
  },
  {
   "cell_type": "code",
   "execution_count": 187,
   "id": "40aaca2b",
   "metadata": {},
   "outputs": [],
   "source": [
    "# split into training and testing\n",
    "train, test = train_test_split(data, test_size=0.2)"
   ]
  },
  {
   "cell_type": "code",
   "execution_count": 188,
   "id": "0c2238bc",
   "metadata": {},
   "outputs": [
    {
     "name": "stdout",
     "output_type": "stream",
     "text": [
      "portuguese grade for females:  13.12\n",
      "portuguese grade for males:  11.993548387096775\n",
      "math grade for females:  9.933333333333334\n",
      "math grade for males:  11.167741935483871\n"
     ]
    }
   ],
   "source": [
    "# mean final grades of protected group SEX for 2 subjects \n",
    "# portuguese language grades \n",
    "mean_grade0 = train[train.sex==0].G3_por.mean()  # females\n",
    "mean_grade1 = train[train.sex==1].G3_por.mean()  # males \n",
    "\n",
    "print('portuguese grade for females: ', mean_grade0)\n",
    "print('portuguese grade for males: ', mean_grade1)\n",
    "\n",
    "# math grades \n",
    "mean_grade0 = train[train.sex==0].G3_mat.mean()  # females\n",
    "mean_grade1 = train[train.sex==1].G3_mat.mean()  # males \n",
    "\n",
    "print('math grade for females: ', mean_grade0)\n",
    "print('math grade for males: ', mean_grade1)"
   ]
  },
  {
   "cell_type": "code",
   "execution_count": 189,
   "id": "674ec425",
   "metadata": {},
   "outputs": [
    {
     "name": "stdout",
     "output_type": "stream",
     "text": [
      "portuguese grade for older students:  12.631756756756756\n",
      "portuguese grade for younger students:  9.777777777777779\n",
      "math grade for older students:  10.628378378378379\n",
      "math grade for younger students:  8.333333333333334\n"
     ]
    }
   ],
   "source": [
    "# mean final grades of protected group AGE for 2 subjects \n",
    "# portuguese language grades \n",
    "mean_grade0 = train[train.age==0].G3_por.mean()  # older\n",
    "mean_grade1 = train[train.age==1].G3_por.mean()  # younger \n",
    "\n",
    "print('portuguese grade for older students: ', mean_grade0)\n",
    "print('portuguese grade for younger students: ', mean_grade1)\n",
    "\n",
    "# math grades \n",
    "mean_grade0 = train[train.age==0].G3_mat.mean()  # older\n",
    "mean_grade1 = train[train.age==1].G3_mat.mean()  # younger \n",
    "\n",
    "print('math grade for older students: ', mean_grade0)\n",
    "print('math grade for younger students: ', mean_grade1)"
   ]
  },
  {
   "cell_type": "code",
   "execution_count": 190,
   "id": "0f07c57d",
   "metadata": {},
   "outputs": [
    {
     "name": "stdout",
     "output_type": "stream",
     "text": [
      "t-test by sex for portuguese 0.0013254290496515055\n",
      "t-test by age for portuguese 0.006013109234974089\n",
      "t-test by sex for math 0.020966451121949926\n",
      "t-test by age for math 0.1473294318700391\n"
     ]
    }
   ],
   "source": [
    "# t-test p-value for protected groups SEX and AGE for 2 subjects\n",
    "# portuguese\n",
    "p_value_sex = stats.ttest_ind(train[train.sex==0].G3_por, train[train.sex==1].G3_por)\n",
    "p_value_age = stats.ttest_ind(train[train.age==0].G3_por, train[train.age==1].G3_por)\n",
    "\n",
    "print('t-test by sex for portuguese', p_value_sex.pvalue)\n",
    "print('t-test by age for portuguese', p_value_age.pvalue)\n",
    "\n",
    "# math\n",
    "p_value_sex = stats.ttest_ind(train[train.sex==0].G3_mat, train[train.sex==1].G3_mat)\n",
    "p_value_age = stats.ttest_ind(train[train.age==0].G3_mat, train[train.age==1].G3_mat)\n",
    "\n",
    "print('t-test by sex for math', p_value_sex.pvalue)\n",
    "print('t-test by age for math', p_value_age.pvalue)"
   ]
  },
  {
   "cell_type": "markdown",
   "id": "9395dc28",
   "metadata": {},
   "source": [
    "Analysis will be repeated 4-fold:   \n",
    "1. Portuguese grade prediction  \n",
    "    A. Protected feature: Sex  \n",
    "    B. Protected feature: Age  \n",
    "2. Math grade prediction   \n",
    "    A. Protected feature: Sex  \n",
    "    B. Protected feature: Age    "
   ]
  },
  {
   "cell_type": "markdown",
   "id": "d4022a83",
   "metadata": {},
   "source": [
    "Repeat t-test analysis with binary outcome variables"
   ]
  },
  {
   "cell_type": "code",
   "execution_count": 191,
   "id": "235aa927",
   "metadata": {},
   "outputs": [
    {
     "name": "stdout",
     "output_type": "stream",
     "text": [
      "t-test by sex for portuguese 0.006045417249638758\n",
      "t-test by age for portuguese 0.05801980993876362\n",
      "t-test by sex for math 0.019462326010237764\n",
      "t-test by age for math 0.23674373447875618\n"
     ]
    }
   ],
   "source": [
    "# t-test p-value for protected groups SEX and AGE for 2 subjects\n",
    "# portuguese\n",
    "p_value_sex = stats.ttest_ind(train[train.sex==0].G3_por_bin, train[train.sex==1].G3_por_bin)\n",
    "p_value_age = stats.ttest_ind(train[train.age==0].G3_por_bin, train[train.age==1].G3_por_bin)\n",
    "\n",
    "print('t-test by sex for portuguese', p_value_sex.pvalue)\n",
    "print('t-test by age for portuguese', p_value_age.pvalue)\n",
    "\n",
    "# math\n",
    "p_value_sex = stats.ttest_ind(train[train.sex==0].G3_mat_bin, train[train.sex==1].G3_mat_bin)\n",
    "p_value_age = stats.ttest_ind(train[train.age==0].G3_mat_bin, train[train.age==1].G3_mat_bin)\n",
    "\n",
    "print('t-test by sex for math', p_value_sex.pvalue)\n",
    "print('t-test by age for math', p_value_age.pvalue)"
   ]
  },
  {
   "cell_type": "markdown",
   "id": "58f17616",
   "metadata": {},
   "source": [
    "## Full Analysis: including all features"
   ]
  },
  {
   "cell_type": "code",
   "execution_count": 192,
   "id": "d3b5cf70",
   "metadata": {},
   "outputs": [
    {
     "data": {
      "text/html": [
       "<div>\n",
       "<style scoped>\n",
       "    .dataframe tbody tr th:only-of-type {\n",
       "        vertical-align: middle;\n",
       "    }\n",
       "\n",
       "    .dataframe tbody tr th {\n",
       "        vertical-align: top;\n",
       "    }\n",
       "\n",
       "    .dataframe thead th {\n",
       "        text-align: right;\n",
       "    }\n",
       "</style>\n",
       "<table border=\"1\" class=\"dataframe\">\n",
       "  <thead>\n",
       "    <tr style=\"text-align: right;\">\n",
       "      <th></th>\n",
       "      <th>school</th>\n",
       "      <th>sex</th>\n",
       "      <th>age</th>\n",
       "      <th>address</th>\n",
       "      <th>famsize</th>\n",
       "      <th>Pstatus</th>\n",
       "      <th>Medu</th>\n",
       "      <th>Fedu</th>\n",
       "      <th>Mjob</th>\n",
       "      <th>Fjob</th>\n",
       "      <th>...</th>\n",
       "      <th>goout_mat</th>\n",
       "      <th>Dalc_mat</th>\n",
       "      <th>Walc_mat</th>\n",
       "      <th>health_mat</th>\n",
       "      <th>absences_mat</th>\n",
       "      <th>G1_mat</th>\n",
       "      <th>G2_mat</th>\n",
       "      <th>G3_mat</th>\n",
       "      <th>G3_por_bin</th>\n",
       "      <th>G3_mat_bin</th>\n",
       "    </tr>\n",
       "  </thead>\n",
       "  <tbody>\n",
       "    <tr>\n",
       "      <th>202</th>\n",
       "      <td>GP</td>\n",
       "      <td>0</td>\n",
       "      <td>0</td>\n",
       "      <td>U</td>\n",
       "      <td>LE3</td>\n",
       "      <td>T</td>\n",
       "      <td>4</td>\n",
       "      <td>4</td>\n",
       "      <td>teacher</td>\n",
       "      <td>teacher</td>\n",
       "      <td>...</td>\n",
       "      <td>2</td>\n",
       "      <td>1</td>\n",
       "      <td>2</td>\n",
       "      <td>3</td>\n",
       "      <td>0</td>\n",
       "      <td>9</td>\n",
       "      <td>9</td>\n",
       "      <td>10</td>\n",
       "      <td>1</td>\n",
       "      <td>0</td>\n",
       "    </tr>\n",
       "    <tr>\n",
       "      <th>58</th>\n",
       "      <td>GP</td>\n",
       "      <td>1</td>\n",
       "      <td>0</td>\n",
       "      <td>U</td>\n",
       "      <td>LE3</td>\n",
       "      <td>T</td>\n",
       "      <td>1</td>\n",
       "      <td>2</td>\n",
       "      <td>other</td>\n",
       "      <td>at_home</td>\n",
       "      <td>...</td>\n",
       "      <td>2</td>\n",
       "      <td>1</td>\n",
       "      <td>1</td>\n",
       "      <td>5</td>\n",
       "      <td>2</td>\n",
       "      <td>9</td>\n",
       "      <td>10</td>\n",
       "      <td>9</td>\n",
       "      <td>1</td>\n",
       "      <td>0</td>\n",
       "    </tr>\n",
       "    <tr>\n",
       "      <th>317</th>\n",
       "      <td>GP</td>\n",
       "      <td>0</td>\n",
       "      <td>0</td>\n",
       "      <td>U</td>\n",
       "      <td>GT3</td>\n",
       "      <td>A</td>\n",
       "      <td>4</td>\n",
       "      <td>3</td>\n",
       "      <td>services</td>\n",
       "      <td>services</td>\n",
       "      <td>...</td>\n",
       "      <td>2</td>\n",
       "      <td>1</td>\n",
       "      <td>2</td>\n",
       "      <td>5</td>\n",
       "      <td>23</td>\n",
       "      <td>13</td>\n",
       "      <td>13</td>\n",
       "      <td>13</td>\n",
       "      <td>1</td>\n",
       "      <td>1</td>\n",
       "    </tr>\n",
       "    <tr>\n",
       "      <th>148</th>\n",
       "      <td>GP</td>\n",
       "      <td>1</td>\n",
       "      <td>0</td>\n",
       "      <td>U</td>\n",
       "      <td>GT3</td>\n",
       "      <td>T</td>\n",
       "      <td>4</td>\n",
       "      <td>3</td>\n",
       "      <td>teacher</td>\n",
       "      <td>services</td>\n",
       "      <td>...</td>\n",
       "      <td>2</td>\n",
       "      <td>1</td>\n",
       "      <td>1</td>\n",
       "      <td>3</td>\n",
       "      <td>0</td>\n",
       "      <td>7</td>\n",
       "      <td>9</td>\n",
       "      <td>0</td>\n",
       "      <td>1</td>\n",
       "      <td>0</td>\n",
       "    </tr>\n",
       "    <tr>\n",
       "      <th>372</th>\n",
       "      <td>MS</td>\n",
       "      <td>1</td>\n",
       "      <td>0</td>\n",
       "      <td>R</td>\n",
       "      <td>GT3</td>\n",
       "      <td>T</td>\n",
       "      <td>2</td>\n",
       "      <td>1</td>\n",
       "      <td>other</td>\n",
       "      <td>other</td>\n",
       "      <td>...</td>\n",
       "      <td>3</td>\n",
       "      <td>1</td>\n",
       "      <td>3</td>\n",
       "      <td>5</td>\n",
       "      <td>5</td>\n",
       "      <td>7</td>\n",
       "      <td>6</td>\n",
       "      <td>7</td>\n",
       "      <td>0</td>\n",
       "      <td>0</td>\n",
       "    </tr>\n",
       "    <tr>\n",
       "      <th>...</th>\n",
       "      <td>...</td>\n",
       "      <td>...</td>\n",
       "      <td>...</td>\n",
       "      <td>...</td>\n",
       "      <td>...</td>\n",
       "      <td>...</td>\n",
       "      <td>...</td>\n",
       "      <td>...</td>\n",
       "      <td>...</td>\n",
       "      <td>...</td>\n",
       "      <td>...</td>\n",
       "      <td>...</td>\n",
       "      <td>...</td>\n",
       "      <td>...</td>\n",
       "      <td>...</td>\n",
       "      <td>...</td>\n",
       "      <td>...</td>\n",
       "      <td>...</td>\n",
       "      <td>...</td>\n",
       "      <td>...</td>\n",
       "      <td>...</td>\n",
       "    </tr>\n",
       "    <tr>\n",
       "      <th>256</th>\n",
       "      <td>GP</td>\n",
       "      <td>1</td>\n",
       "      <td>0</td>\n",
       "      <td>U</td>\n",
       "      <td>GT3</td>\n",
       "      <td>T</td>\n",
       "      <td>2</td>\n",
       "      <td>1</td>\n",
       "      <td>services</td>\n",
       "      <td>services</td>\n",
       "      <td>...</td>\n",
       "      <td>5</td>\n",
       "      <td>2</td>\n",
       "      <td>5</td>\n",
       "      <td>5</td>\n",
       "      <td>4</td>\n",
       "      <td>6</td>\n",
       "      <td>9</td>\n",
       "      <td>8</td>\n",
       "      <td>0</td>\n",
       "      <td>0</td>\n",
       "    </tr>\n",
       "    <tr>\n",
       "      <th>219</th>\n",
       "      <td>GP</td>\n",
       "      <td>0</td>\n",
       "      <td>0</td>\n",
       "      <td>U</td>\n",
       "      <td>GT3</td>\n",
       "      <td>T</td>\n",
       "      <td>4</td>\n",
       "      <td>3</td>\n",
       "      <td>other</td>\n",
       "      <td>other</td>\n",
       "      <td>...</td>\n",
       "      <td>5</td>\n",
       "      <td>2</td>\n",
       "      <td>4</td>\n",
       "      <td>1</td>\n",
       "      <td>22</td>\n",
       "      <td>6</td>\n",
       "      <td>6</td>\n",
       "      <td>4</td>\n",
       "      <td>0</td>\n",
       "      <td>0</td>\n",
       "    </tr>\n",
       "    <tr>\n",
       "      <th>50</th>\n",
       "      <td>GP</td>\n",
       "      <td>0</td>\n",
       "      <td>0</td>\n",
       "      <td>U</td>\n",
       "      <td>LE3</td>\n",
       "      <td>T</td>\n",
       "      <td>2</td>\n",
       "      <td>2</td>\n",
       "      <td>services</td>\n",
       "      <td>services</td>\n",
       "      <td>...</td>\n",
       "      <td>3</td>\n",
       "      <td>2</td>\n",
       "      <td>3</td>\n",
       "      <td>4</td>\n",
       "      <td>2</td>\n",
       "      <td>12</td>\n",
       "      <td>13</td>\n",
       "      <td>13</td>\n",
       "      <td>1</td>\n",
       "      <td>1</td>\n",
       "    </tr>\n",
       "    <tr>\n",
       "      <th>249</th>\n",
       "      <td>GP</td>\n",
       "      <td>1</td>\n",
       "      <td>0</td>\n",
       "      <td>U</td>\n",
       "      <td>GT3</td>\n",
       "      <td>T</td>\n",
       "      <td>2</td>\n",
       "      <td>1</td>\n",
       "      <td>other</td>\n",
       "      <td>other</td>\n",
       "      <td>...</td>\n",
       "      <td>3</td>\n",
       "      <td>1</td>\n",
       "      <td>1</td>\n",
       "      <td>4</td>\n",
       "      <td>6</td>\n",
       "      <td>18</td>\n",
       "      <td>18</td>\n",
       "      <td>18</td>\n",
       "      <td>1</td>\n",
       "      <td>1</td>\n",
       "    </tr>\n",
       "    <tr>\n",
       "      <th>170</th>\n",
       "      <td>GP</td>\n",
       "      <td>1</td>\n",
       "      <td>0</td>\n",
       "      <td>U</td>\n",
       "      <td>GT3</td>\n",
       "      <td>T</td>\n",
       "      <td>2</td>\n",
       "      <td>2</td>\n",
       "      <td>other</td>\n",
       "      <td>other</td>\n",
       "      <td>...</td>\n",
       "      <td>5</td>\n",
       "      <td>2</td>\n",
       "      <td>4</td>\n",
       "      <td>4</td>\n",
       "      <td>4</td>\n",
       "      <td>10</td>\n",
       "      <td>10</td>\n",
       "      <td>10</td>\n",
       "      <td>1</td>\n",
       "      <td>0</td>\n",
       "    </tr>\n",
       "  </tbody>\n",
       "</table>\n",
       "<p>305 rows × 55 columns</p>\n",
       "</div>"
      ],
      "text/plain": [
       "    school  sex  age address famsize Pstatus  Medu  Fedu      Mjob      Fjob  \\\n",
       "202     GP    0    0       U     LE3       T     4     4   teacher   teacher   \n",
       "58      GP    1    0       U     LE3       T     1     2     other   at_home   \n",
       "317     GP    0    0       U     GT3       A     4     3  services  services   \n",
       "148     GP    1    0       U     GT3       T     4     3   teacher  services   \n",
       "372     MS    1    0       R     GT3       T     2     1     other     other   \n",
       "..     ...  ...  ...     ...     ...     ...   ...   ...       ...       ...   \n",
       "256     GP    1    0       U     GT3       T     2     1  services  services   \n",
       "219     GP    0    0       U     GT3       T     4     3     other     other   \n",
       "50      GP    0    0       U     LE3       T     2     2  services  services   \n",
       "249     GP    1    0       U     GT3       T     2     1     other     other   \n",
       "170     GP    1    0       U     GT3       T     2     2     other     other   \n",
       "\n",
       "     ... goout_mat Dalc_mat  Walc_mat  health_mat  absences_mat G1_mat G2_mat  \\\n",
       "202  ...         2        1         2           3             0      9      9   \n",
       "58   ...         2        1         1           5             2      9     10   \n",
       "317  ...         2        1         2           5            23     13     13   \n",
       "148  ...         2        1         1           3             0      7      9   \n",
       "372  ...         3        1         3           5             5      7      6   \n",
       "..   ...       ...      ...       ...         ...           ...    ...    ...   \n",
       "256  ...         5        2         5           5             4      6      9   \n",
       "219  ...         5        2         4           1            22      6      6   \n",
       "50   ...         3        2         3           4             2     12     13   \n",
       "249  ...         3        1         1           4             6     18     18   \n",
       "170  ...         5        2         4           4             4     10     10   \n",
       "\n",
       "    G3_mat G3_por_bin G3_mat_bin  \n",
       "202     10          1          0  \n",
       "58       9          1          0  \n",
       "317     13          1          1  \n",
       "148      0          1          0  \n",
       "372      7          0          0  \n",
       "..     ...        ...        ...  \n",
       "256      8          0          0  \n",
       "219      4          0          0  \n",
       "50      13          1          1  \n",
       "249     18          1          1  \n",
       "170     10          1          0  \n",
       "\n",
       "[305 rows x 55 columns]"
      ]
     },
     "execution_count": 192,
     "metadata": {},
     "output_type": "execute_result"
    }
   ],
   "source": [
    "train"
   ]
  },
  {
   "cell_type": "markdown",
   "id": "c0bf83fe",
   "metadata": {},
   "source": [
    "### Full - Portuguese\n",
    "\n",
    "Load the data"
   ]
  },
  {
   "cell_type": "code",
   "execution_count": 193,
   "id": "6810e69d",
   "metadata": {},
   "outputs": [],
   "source": [
    "# sex\n",
    "df_train_X = train.drop(['G1_mat', 'G2_mat', 'G3_mat', 'G1_por', 'G2_por', 'G3_por', 'G3_mat_bin', 'G3_por_bin'], axis=1)\n",
    "df_train_y_por = train.G3_por_bin\n",
    "df_test_X = test.drop(['G1_mat', 'G2_mat', 'G3_mat', 'G1_por', 'G2_por', 'G3_por', 'G3_mat_bin', 'G3_por_bin'], axis=1)\n",
    "df_test_y_por = test.G3_por_bin\n",
    "\n",
    "\n",
    "train_x, test_x = process_dfs(df_train_X, df_test_X, \n",
    "                                     ['school', 'sex','address', 'famsize', 'Pstatus', 'Mjob', 'Fjob', 'reason',\n",
    "                                     'guardian_por', 'schoolsup_por', 'famsup_por', 'paid_por', 'activities_por',\n",
    "                                     'nursery', 'higher_por', 'internet', 'romantic_por', 'guardian_mat',\n",
    "                                     'schoolsup_mat', 'famsup_mat', 'paid_mat', 'activities_mat', 'higher_mat',\n",
    "                                     'romantic_mat'])\n",
    "train_y_por = df_train_y_por.values\n",
    "test_y_por = df_test_y_por.values\n"
   ]
  },
  {
   "cell_type": "markdown",
   "id": "615995a6",
   "metadata": {},
   "source": [
    "Initiate and run model"
   ]
  },
  {
   "cell_type": "code",
   "execution_count": 194,
   "id": "9f31aebc",
   "metadata": {},
   "outputs": [
    {
     "name": "stdout",
     "output_type": "stream",
     "text": [
      "PORTUGUESE baseline: accuracy, statistical parity, and equal opportunity wrt sex\n",
      "0.7922077922077922 -0.15158045977011492 -0.11764705882352944\n",
      "\n",
      "\n"
     ]
    }
   ],
   "source": [
    "model = LogisticRegression(random_state=0, max_iter=1000)\n",
    "fit_model = model.fit(train_x, train_y_por)\n",
    "preds = fit_model.predict(test_x)\n",
    "\n",
    "df_test_sens_feat = test['sex']\n",
    "test_sens_por = df_test_sens_feat.values\n",
    "acc = accuracy_score(test_y_por, preds)\n",
    "stat_p = stat_parity(preds, test_sens_por)\n",
    "eq_op = eq_oppo(preds, test_sens_por, test_y_por)\n",
    "print('PORTUGUESE baseline: accuracy, statistical parity, and equal opportunity wrt sex')\n",
    "print(acc, stat_p, eq_op)\n",
    "print('\\n')\n"
   ]
  },
  {
   "cell_type": "markdown",
   "id": "f80a1f5f",
   "metadata": {},
   "source": [
    "### <span style=\"color:red\">To Do: for Saurabh</span>\n",
    "\n",
    "- Recursive Feature Elimination  \n",
    "- Print model summaries \n",
    "- List features used in model \n",
    "- Include significant features in report \n",
    "\n",
    "Follow tutorial here: \n",
    "https://towardsdatascience.com/building-a-logistic-regression-in-python-step-by-step-becd4d56c9c8\n",
    "\n",
    "\n",
    "Repeat for Math "
   ]
  },
  {
   "cell_type": "code",
   "execution_count": 195,
   "id": "cdd6538a",
   "metadata": {},
   "outputs": [],
   "source": [
    "from imblearn.over_sampling import SMOTE"
   ]
  },
  {
   "cell_type": "code",
   "execution_count": 196,
   "id": "07bc4f63",
   "metadata": {},
   "outputs": [
    {
     "name": "stdout",
     "output_type": "stream",
     "text": [
      "length of oversampled data is  490\n",
      "Number of no subscription in oversampled data 245\n",
      "Number of subscription 245\n",
      "Proportion of no subscription data in oversampled data is  0.5\n",
      "Proportion of subscription data in oversampled data is  0.5\n"
     ]
    }
   ],
   "source": [
    "os = SMOTE(random_state=0)\n",
    "# train_x, test_x, train_y_por, test_y_por = train_test_split(X, y, test_size=0.3, random_state=0)\n",
    "columns = train_x.columns\n",
    "\n",
    "os_data_X,os_data_y=os.fit_resample(train_x, train_y_por)\n",
    "os_data_X = pd.DataFrame(data=os_data_X,columns=columns )\n",
    "os_data_y= pd.DataFrame(data=os_data_y,columns=['y'])\n",
    "# we can Check the numbers of our data\n",
    "print(\"length of oversampled data is \",len(os_data_X))\n",
    "print(\"Number of no subscription in oversampled data\",len(os_data_y[os_data_y['y']==0]))\n",
    "print(\"Number of subscription\",len(os_data_y[os_data_y['y']==1]))\n",
    "print(\"Proportion of no subscription data in oversampled data is \",len(os_data_y[os_data_y['y']==0])/len(os_data_X))\n",
    "print(\"Proportion of subscription data in oversampled data is \",len(os_data_y[os_data_y['y']==1])/len(os_data_X))"
   ]
  },
  {
   "cell_type": "code",
   "execution_count": 197,
   "id": "98ae5a7c",
   "metadata": {},
   "outputs": [
    {
     "data": {
      "text/plain": [
       "Index(['sex', 'school_MS', 'address_U', 'famsize_LE3', 'Pstatus_T',\n",
       "       'Mjob_health', 'Mjob_other', 'Mjob_services', 'Mjob_teacher',\n",
       "       'Fjob_health', 'Fjob_other', 'Fjob_services', 'Fjob_teacher',\n",
       "       'reason_home', 'reason_other', 'reason_reputation',\n",
       "       'guardian_por_mother', 'guardian_por_other', 'schoolsup_por_yes',\n",
       "       'famsup_por_yes', 'paid_por_yes', 'activities_por_yes', 'nursery_yes',\n",
       "       'higher_por_yes', 'internet_yes', 'romantic_por_yes',\n",
       "       'guardian_mat_mother', 'guardian_mat_other', 'schoolsup_mat_yes',\n",
       "       'famsup_mat_yes', 'paid_mat_yes', 'activities_mat_yes',\n",
       "       'higher_mat_yes', 'romantic_mat_yes', 'age', 'Medu', 'Fedu',\n",
       "       'traveltime_por', 'studytime_por', 'failures_por', 'famrel_por',\n",
       "       'freetime_por', 'goout_por', 'Dalc_por', 'Walc_por', 'health_por',\n",
       "       'absences_por', 'traveltime_mat', 'studytime_mat', 'failures_mat',\n",
       "       'famrel_mat', 'freetime_mat', 'goout_mat', 'Dalc_mat', 'Walc_mat',\n",
       "       'health_mat', 'absences_mat'],\n",
       "      dtype='object')"
      ]
     },
     "execution_count": 197,
     "metadata": {},
     "output_type": "execute_result"
    }
   ],
   "source": [
    "columns"
   ]
  },
  {
   "cell_type": "markdown",
   "id": "6a253338",
   "metadata": {},
   "source": [
    "## RFE - Portuguese"
   ]
  },
  {
   "cell_type": "code",
   "execution_count": 198,
   "id": "dea9273b",
   "metadata": {},
   "outputs": [
    {
     "name": "stdout",
     "output_type": "stream",
     "text": [
      "[False False  True False False False False False  True False False False\n",
      "  True False  True  True False False False False  True False False  True\n",
      " False False False False False False  True False  True False False False\n",
      " False False False  True False False False False False False False False\n",
      " False False False False False False False False False]\n",
      "[17  6  1 40 10 13 15 12  1 45  8  7  1  5  1  1 38 14 16 41  1  9 36  1\n",
      " 32 29 39 22 27 33  1 37  1 11 48 46 31 43 23  1 47 25 19 18 30 34  4 42\n",
      " 24  2 44 28 21 20 26 35  3]\n"
     ]
    }
   ],
   "source": [
    "data_final_vars=columns.values.tolist()\n",
    "y=['G3_por_bin']\n",
    "X=[i for i in data_final_vars if i not in y]\n",
    "\n",
    "logreg = LogisticRegression()\n",
    "rfe = RFE(logreg, n_features_to_select=10)\n",
    "rfe = rfe.fit(os_data_X, os_data_y.values.ravel())\n",
    "print(rfe.support_)\n",
    "print(rfe.ranking_)"
   ]
  },
  {
   "cell_type": "code",
   "execution_count": 199,
   "id": "714f1a92",
   "metadata": {},
   "outputs": [
    {
     "data": {
      "text/plain": [
       "Index(['address_U', 'Mjob_teacher', 'Fjob_teacher', 'reason_other',\n",
       "       'reason_reputation', 'paid_por_yes', 'higher_por_yes', 'paid_mat_yes',\n",
       "       'higher_mat_yes', 'failures_por'],\n",
       "      dtype='object')"
      ]
     },
     "execution_count": 199,
     "metadata": {},
     "output_type": "execute_result"
    }
   ],
   "source": [
    "columns[rfe.support_]"
   ]
  },
  {
   "cell_type": "code",
   "execution_count": 200,
   "id": "156a7364",
   "metadata": {},
   "outputs": [],
   "source": [
    "cols = columns[rfe.support_]"
   ]
  },
  {
   "cell_type": "code",
   "execution_count": 201,
   "id": "df24fa19",
   "metadata": {},
   "outputs": [],
   "source": [
    "# cols=['address_U', 'famsize_LE3', 'Mjob_health', 'Mjob_services', 'Mjob_teacher', 'Fjob_teacher', \n",
    "#       'reason_home', 'reason_other', 'reason_reputation', 'higher_por_yes',\n",
    "#       'paid_mat_yes', 'higher_mat_yes', 'Dalc_por', 'absences_por', \n",
    "#       'Dalc_mat', 'absences_mat'] \n",
    "X=os_data_X[cols]\n",
    "y=os_data_y['y']"
   ]
  },
  {
   "cell_type": "code",
   "execution_count": 202,
   "id": "e7469c8b",
   "metadata": {},
   "outputs": [
    {
     "name": "stdout",
     "output_type": "stream",
     "text": [
      "Optimization terminated successfully.\n",
      "         Current function value: 0.509141\n",
      "         Iterations 7\n",
      "                           Results: Logit\n",
      "====================================================================\n",
      "Model:               Logit             Pseudo R-squared:  0.265     \n",
      "Dependent Variable:  y                 AIC:               518.9581  \n",
      "Date:                2022-05-03 13:50  BIC:               560.9022  \n",
      "No. Observations:    490               Log-Likelihood:    -249.48   \n",
      "Df Model:            9                 LL-Null:           -339.64   \n",
      "Df Residuals:        480               LLR p-value:       4.3315e-34\n",
      "Converged:           1.0000            Scale:             1.0000    \n",
      "No. Iterations:      7.0000                                         \n",
      "--------------------------------------------------------------------\n",
      "                   Coef.   Std.Err.    z    P>|z|   [0.025   0.975] \n",
      "--------------------------------------------------------------------\n",
      "address_U           0.6684   0.2234  2.9923 0.0028   0.2306   1.1061\n",
      "Mjob_teacher        1.4123   0.4642  3.0424 0.0023   0.5025   2.3221\n",
      "Fjob_teacher        1.2055   0.7054  1.7088 0.0875  -0.1771   2.5881\n",
      "reason_other        0.6639   0.4805  1.3816 0.1671  -0.2779   1.6057\n",
      "reason_reputation   0.9805   0.3213  3.0513 0.0023   0.3507   1.6103\n",
      "paid_por_yes        2.4100   0.8934  2.6975 0.0070   0.6589   4.1611\n",
      "higher_por_yes      0.4811   0.8942  0.5380 0.5906  -1.2715   2.2336\n",
      "paid_mat_yes        0.4461   0.2370  1.8827 0.0597  -0.0183   0.9106\n",
      "higher_mat_yes     -0.8963   0.9000 -0.9958 0.3193  -2.6603   0.8678\n",
      "failures_por      -23.7133   3.8896 -6.0966 0.0000 -31.3368 -16.0899\n",
      "====================================================================\n",
      "\n"
     ]
    }
   ],
   "source": [
    "import statsmodels.api as sm\n",
    "logit_model=sm.Logit(y,X)\n",
    "result=logit_model.fit()\n",
    "print(result.summary2())"
   ]
  },
  {
   "cell_type": "code",
   "execution_count": 203,
   "id": "f1d193b6",
   "metadata": {},
   "outputs": [
    {
     "name": "stdout",
     "output_type": "stream",
     "text": [
      "PORTUGUESE RFE: accuracy, statistical parity, and equal opportunity wrt sex\n",
      "0.7532467532467533 -0.1724137931034483 -0.17647058823529416\n",
      "\n",
      "\n"
     ]
    }
   ],
   "source": [
    "# sex\n",
    "df_train_X = train[['sex','address', 'Mjob', 'Fjob', 'higher_por', 'absences_mat', 'failures_mat', 'failures_por', 'reason']]\n",
    "df_train_y_por = train.G3_por_bin\n",
    "df_test_X = test[['sex','address', 'Mjob', 'Fjob', 'higher_por', 'absences_mat', 'failures_mat', 'failures_por', 'reason']]\n",
    "df_test_y_por = test.G3_por_bin\n",
    "\n",
    "train_x, test_x = process_dfs(df_train_X, df_test_X, \n",
    "                                     ['address', 'sex', 'Mjob', 'Fjob', 'reason',\n",
    "                                     'higher_por','reason'])\n",
    "\n",
    "train_y_por = df_train_y_por.values\n",
    "test_y_por = df_test_y_por.values\n",
    "\n",
    "model = LogisticRegression(random_state=0, max_iter=1000)\n",
    "fit_model = model.fit(train_x, train_y_por)\n",
    "preds = fit_model.predict(test_x)\n",
    "\n",
    "df_test_sens_feat = test['sex']\n",
    "test_sens_por = df_test_sens_feat.values\n",
    "acc = accuracy_score(test_y_por, preds)\n",
    "stat_p = stat_parity(preds, test_sens_por)\n",
    "eq_op = eq_oppo(preds, test_sens_por, test_y_por)\n",
    "print('PORTUGUESE RFE: accuracy, statistical parity, and equal opportunity wrt sex')\n",
    "print(acc, stat_p, eq_op)\n",
    "print('\\n')"
   ]
  },
  {
   "cell_type": "markdown",
   "id": "6dc4318d",
   "metadata": {},
   "source": [
    "### Full - Math"
   ]
  },
  {
   "cell_type": "code",
   "execution_count": 210,
   "id": "b66841b2",
   "metadata": {},
   "outputs": [],
   "source": [
    "# load the data\n",
    "# sex\n",
    "df_train_X = train.drop(['G1_mat', 'G2_mat', 'G3_mat', 'G1_por', 'G2_por', 'G3_por', 'G3_mat_bin', 'G3_por_bin'], axis=1)\n",
    "df_train_y_mat = train.G3_mat_bin\n",
    "df_test_X = test.drop(['G1_mat', 'G2_mat', 'G3_mat', 'G1_por', 'G2_por', 'G3_por', 'G3_mat_bin', 'G3_por_bin'], axis=1)\n",
    "df_test_y_mat = test.G3_mat_bin\n",
    "\n",
    "\n",
    "train_x, test_x = process_dfs(df_train_X, df_test_X, \n",
    "                                     ['school', 'sex','address', 'famsize', 'Pstatus', 'Mjob', 'Fjob', 'reason',\n",
    "                                     'guardian_por', 'schoolsup_por', 'famsup_por', 'paid_por', 'activities_por',\n",
    "                                     'nursery', 'higher_por', 'internet', 'romantic_por', 'guardian_mat',\n",
    "                                     'schoolsup_mat', 'famsup_mat', 'paid_mat', 'activities_mat', 'higher_mat',\n",
    "                                     'romantic_mat'])\n",
    "train_y_mat = df_train_y_mat.values\n",
    "test_y_mat = df_test_y_mat.values"
   ]
  },
  {
   "cell_type": "code",
   "execution_count": 211,
   "id": "b331f0cf",
   "metadata": {},
   "outputs": [
    {
     "name": "stdout",
     "output_type": "stream",
     "text": [
      "MATH baseline: accuracy, statistical parity, and equal opportunity wrt sex\n",
      "0.5974025974025974 0.3556034482758621 0.38235294117647056\n",
      "\n",
      "\n"
     ]
    }
   ],
   "source": [
    "# Initiate and run the model\n",
    "model = LogisticRegression(random_state=0, max_iter=1000)\n",
    "fit_model = model.fit(train_x, train_y_mat)\n",
    "preds = fit_model.predict(test_x)\n",
    "\n",
    "df_test_sens_feat = test['sex']\n",
    "test_sens_por = df_test_sens_feat.values\n",
    "acc = accuracy_score(test_y_por, preds)\n",
    "stat_p = stat_parity(preds, test_sens_por)\n",
    "eq_op = eq_oppo(preds, test_sens_por, test_y_por)\n",
    "print('MATH baseline: accuracy, statistical parity, and equal opportunity wrt sex')\n",
    "print(acc, stat_p, eq_op)\n",
    "print('\\n')"
   ]
  },
  {
   "cell_type": "markdown",
   "id": "44ce8f9d",
   "metadata": {},
   "source": [
    "### RFE - Math"
   ]
  },
  {
   "cell_type": "code",
   "execution_count": 212,
   "id": "80b8f3d7",
   "metadata": {},
   "outputs": [
    {
     "name": "stdout",
     "output_type": "stream",
     "text": [
      "length of oversampled data is  322\n",
      "Number of no subscription in oversampled data 161\n",
      "Number of subscription 161\n",
      "Proportion of no subscription data in oversampled data is  0.5\n",
      "Proportion of subscription data in oversampled data is  0.5\n"
     ]
    }
   ],
   "source": [
    "os = SMOTE(random_state=0)\n",
    "# train_x, test_x, train_y_por, test_y_por = train_test_split(X, y, test_size=0.3, random_state=0)\n",
    "columns = train_x.columns\n",
    "\n",
    "os_data_X,os_data_y=os.fit_resample(train_x, train_y_mat)\n",
    "os_data_X = pd.DataFrame(data=os_data_X,columns=columns )\n",
    "os_data_y= pd.DataFrame(data=os_data_y,columns=['y'])\n",
    "# we can Check the numbers of our data\n",
    "print(\"length of oversampled data is \",len(os_data_X))\n",
    "print(\"Number of no subscription in oversampled data\",len(os_data_y[os_data_y['y']==0]))\n",
    "print(\"Number of subscription\",len(os_data_y[os_data_y['y']==1]))\n",
    "print(\"Proportion of no subscription data in oversampled data is \",len(os_data_y[os_data_y['y']==0])/len(os_data_X))\n",
    "print(\"Proportion of subscription data in oversampled data is \",len(os_data_y[os_data_y['y']==1])/len(os_data_X))"
   ]
  },
  {
   "cell_type": "code",
   "execution_count": 216,
   "id": "f166d209",
   "metadata": {},
   "outputs": [
    {
     "name": "stdout",
     "output_type": "stream",
     "text": [
      "[ True False False False False  True False  True False False False False\n",
      "  True False False False False False False False False False False  True\n",
      " False False False  True  True False False False  True False False False\n",
      " False  True False  True False False False False False False False False\n",
      " False  True False False False False False False False]\n",
      "[ 1 12 21 31 16  1  3  1 30 35 18 36  1 27 46  5 24  9 19 25 20 33 29  1\n",
      " 45 38 23  1  1 13 15 32  1 44 22 17 11  1 26  1 39 41 10 37  7 40  6  2\n",
      " 28  1 43 47 14 34  8 42  4]\n"
     ]
    }
   ],
   "source": [
    "data_final_vars=columns.values.tolist()\n",
    "y=['G3_mat_bin']\n",
    "X=[i for i in data_final_vars if i not in y]\n",
    "\n",
    "logreg = LogisticRegression()\n",
    "rfe = RFE(logreg, n_features_to_select=11)\n",
    "rfe = rfe.fit(os_data_X, os_data_y.values.ravel())\n",
    "print(rfe.support_)\n",
    "print(rfe.ranking_)"
   ]
  },
  {
   "cell_type": "code",
   "execution_count": 222,
   "id": "9e71ae8d",
   "metadata": {},
   "outputs": [
    {
     "data": {
      "text/plain": [
       "Index(['sex', 'Mjob_health', 'Mjob_services', 'Fjob_teacher', 'higher_por_yes',\n",
       "       'guardian_mat_other', 'schoolsup_mat_yes', 'higher_mat_yes',\n",
       "       'traveltime_por', 'failures_por', 'failures_mat'],\n",
       "      dtype='object')"
      ]
     },
     "execution_count": 222,
     "metadata": {},
     "output_type": "execute_result"
    }
   ],
   "source": [
    "cols = columns[rfe.support_]\n",
    "cols"
   ]
  },
  {
   "cell_type": "code",
   "execution_count": 223,
   "id": "371ca955",
   "metadata": {},
   "outputs": [
    {
     "data": {
      "text/plain": [
       "Index(['sex', 'Mjob_health', 'Mjob_services', 'Fjob_teacher', 'higher_por_yes',\n",
       "       'schoolsup_mat_yes', 'higher_mat_yes', 'traveltime_por', 'failures_por',\n",
       "       'failures_mat'],\n",
       "      dtype='object')"
      ]
     },
     "execution_count": 223,
     "metadata": {},
     "output_type": "execute_result"
    }
   ],
   "source": [
    "cols = cols.drop(['guardian_mat_other'])\n",
    "cols"
   ]
  },
  {
   "cell_type": "code",
   "execution_count": 224,
   "id": "0ae266dc",
   "metadata": {},
   "outputs": [],
   "source": [
    "# cols=['sex', 'school_MS', 'address_U', 'Pstatus_T', 'Mjob_health', 'Mjob_other', 'Mjob_services', \n",
    "#       'Fjob_teacher', 'reason_reputation', 'guardian_por_other', 'higher_por_yes', 'guardian_mat_other',\n",
    "#       'schoolsup_mat_yes', 'higher_mat_yes', 'Fedu', 'goout_por', 'Walc_por', 'absences_por', \n",
    "#       'failures_mat', 'absences_mat'] \n",
    "X=os_data_X[cols]\n",
    "y=os_data_y['y']"
   ]
  },
  {
   "cell_type": "code",
   "execution_count": 225,
   "id": "95202b4d",
   "metadata": {},
   "outputs": [
    {
     "name": "stdout",
     "output_type": "stream",
     "text": [
      "Optimization terminated successfully.\n",
      "         Current function value: 0.521297\n",
      "         Iterations 8\n",
      "                           Results: Logit\n",
      "====================================================================\n",
      "Model:               Logit             Pseudo R-squared:  0.248     \n",
      "Dependent Variable:  y                 AIC:               355.7155  \n",
      "Date:                2022-05-03 13:52  BIC:               393.4610  \n",
      "No. Observations:    322               Log-Likelihood:    -167.86   \n",
      "Df Model:            9                 LL-Null:           -223.19   \n",
      "Df Residuals:        312               LLR p-value:       1.0734e-19\n",
      "Converged:           1.0000            Scale:             1.0000    \n",
      "No. Iterations:      8.0000                                         \n",
      "--------------------------------------------------------------------\n",
      "                   Coef.   Std.Err.    z    P>|z|   [0.025   0.975] \n",
      "--------------------------------------------------------------------\n",
      "sex                 0.7272   0.2722  2.6719 0.0075   0.1938   1.2606\n",
      "Mjob_health         1.0036   0.5271  1.9040 0.0569  -0.0295   2.0366\n",
      "Mjob_services       1.2427   0.3487  3.5640 0.0004   0.5593   1.9261\n",
      "Fjob_teacher        0.6813   0.5310  1.2831 0.1995  -0.3594   1.7219\n",
      "higher_por_yes     -3.3464   2.6890 -1.2445 0.2133  -8.6167   1.9238\n",
      "schoolsup_mat_yes  -0.7840   0.4146 -1.8908 0.0587  -1.5966   0.0287\n",
      "higher_mat_yes      4.0353   2.6880  1.5012 0.1333  -1.2332   9.3037\n",
      "traveltime_por    -18.6022   5.7447 -3.2382 0.0012 -29.8616  -7.3429\n",
      "failures_por        5.1692   5.4544  0.9477 0.3433  -5.5213  15.8596\n",
      "failures_mat      -38.2780   8.0314 -4.7660 0.0000 -54.0192 -22.5368\n",
      "====================================================================\n",
      "\n"
     ]
    }
   ],
   "source": [
    "import statsmodels.api as sm\n",
    "logit_model=sm.Logit(y,X)\n",
    "result=logit_model.fit()\n",
    "print(result.summary2())"
   ]
  },
  {
   "cell_type": "code",
   "execution_count": 226,
   "id": "e0993fcf",
   "metadata": {},
   "outputs": [],
   "source": [
    "# sex\n",
    "df_train_X = train[['school','Mjob','higher_por', 'absences_mat', 'failures_mat','schoolsup_mat','higher_mat','absences_por']]\n",
    "df_train_y_mat = train.G3_mat_bin\n",
    "df_test_X = test[['school','Mjob','higher_por', 'absences_mat', 'failures_mat','schoolsup_mat','higher_mat','absences_por']]\n",
    "df_test_y_mat = test.G3_mat_bin\n",
    "\n",
    "train_x, test_x = process_dfs(df_train_X, df_test_X, \n",
    "                                     ['school','Mjob','higher_por','schoolsup_mat','higher_mat'])\n",
    "\n",
    "train_y_mat = df_train_y_mat.values\n",
    "test_y_mat = df_test_y_mat.values\n",
    "\n"
   ]
  },
  {
   "cell_type": "code",
   "execution_count": 227,
   "id": "b7376db9",
   "metadata": {},
   "outputs": [
    {
     "name": "stdout",
     "output_type": "stream",
     "text": [
      "MATH RFE: accuracy, statistical parity, and equal opportunity wrt sex\n",
      "0.6233766233766234 0.05747126436781613 0.06547619047619047\n",
      "\n",
      "\n"
     ]
    }
   ],
   "source": [
    "model = LogisticRegression(random_state=0, max_iter=1000)\n",
    "fit_model = model.fit(train_x, train_y_mat)\n",
    "preds = fit_model.predict(test_x)\n",
    "\n",
    "df_test_sens_feat = test['sex']\n",
    "test_sens_mat = df_test_sens_feat.values\n",
    "acc = accuracy_score(test_y_mat, preds)\n",
    "stat_p = stat_parity(preds, test_sens_mat)\n",
    "eq_op = eq_oppo(preds, test_sens_por, test_y_mat)\n",
    "print('MATH RFE: accuracy, statistical parity, and equal opportunity wrt sex')\n",
    "print(acc, stat_p, eq_op)\n",
    "print('\\n')"
   ]
  },
  {
   "cell_type": "markdown",
   "id": "1a269b11",
   "metadata": {},
   "source": [
    "## Exploring ways to mitigate bias\n",
    "\n",
    "### Remove the protected attribute\n",
    "Only going to consider gender since age doesn't make as much sense in this context\n",
    "\n",
    "### Portuguese"
   ]
  },
  {
   "cell_type": "code",
   "execution_count": 228,
   "id": "4b75ed48",
   "metadata": {
    "scrolled": true
   },
   "outputs": [
    {
     "name": "stdout",
     "output_type": "stream",
     "text": [
      "PORTUGUESE FULL sex dropped: accuracy, statistical parity, and equal opportunity wrt sex\n",
      "0.7792207792207793 -0.1170977011494253 -0.11764705882352944\n",
      "\n",
      "\n"
     ]
    }
   ],
   "source": [
    "# sex\n",
    "df_train_X = train.drop(['G1_mat', 'G2_mat', 'G3_mat', 'G1_por', 'G2_por', 'G3_por', 'G3_mat_bin', 'G3_por_bin'], axis=1)\n",
    "df_train_y_por = train.G3_por_bin\n",
    "df_test_X = test.drop(['G1_mat', 'G2_mat', 'G3_mat', 'G1_por', 'G2_por', 'G3_por', 'G3_mat_bin', 'G3_por_bin'], axis=1)\n",
    "df_test_y_por = test.G3_por_bin\n",
    "\n",
    "df_train_X_no_gender = df_train_X.drop(['sex'], axis=1)\n",
    "df_test_X_no_gender = df_test_X.drop(['sex'], axis=1)\n",
    "\n",
    "train_x, test_x = process_dfs(df_train_X_no_gender, df_test_X_no_gender, \n",
    "                                     ['school', 'address', 'famsize', 'Pstatus', 'Mjob', 'Fjob', 'reason',\n",
    "                                     'guardian_por', 'schoolsup_por', 'famsup_por', 'paid_por', 'activities_por',\n",
    "                                     'nursery', 'higher_por', 'internet', 'romantic_por', 'guardian_mat',\n",
    "                                     'schoolsup_mat', 'famsup_mat', 'paid_mat', 'activities_mat', 'higher_mat',\n",
    "                                     'romantic_mat'])\n",
    "\n",
    "train_y_por = df_train_y_por.values\n",
    "test_y_por = df_test_y_por.values\n",
    "\n",
    "model = LogisticRegression(random_state=0, max_iter=1000)\n",
    "fit_model = model.fit(train_x, train_y_por)\n",
    "preds = fit_model.predict(test_x)\n",
    "\n",
    "df_test_sens_feat = test['sex']\n",
    "test_sens_por = df_test_sens_feat.values\n",
    "acc = accuracy_score(test_y_por, preds)\n",
    "stat_p = stat_parity(preds, test_sens_por)\n",
    "eq_op = eq_oppo(preds, test_sens_por, test_y_por)\n",
    "print('PORTUGUESE FULL sex dropped: accuracy, statistical parity, and equal opportunity wrt sex')\n",
    "print(acc, stat_p, eq_op)\n",
    "print('\\n')"
   ]
  },
  {
   "cell_type": "markdown",
   "id": "8c3cba61",
   "metadata": {},
   "source": [
    "### with RFE variables"
   ]
  },
  {
   "cell_type": "code",
   "execution_count": 229,
   "id": "82c9b560",
   "metadata": {},
   "outputs": [
    {
     "name": "stdout",
     "output_type": "stream",
     "text": [
      "PORTUGUESE RFE sex dropped: accuracy, statistical parity, and equal opportunity wrt sex\n",
      "0.7792207792207793 -0.10344827586206895 -0.05882352941176472\n",
      "\n",
      "\n"
     ]
    }
   ],
   "source": [
    "# sex\n",
    "df_train_X = train[['sex','address', 'Mjob', 'Fjob', 'higher_por', 'absences_mat', 'failures_mat', 'failures_por', 'reason']]\n",
    "df_train_y_por = train.G3_por_bin\n",
    "df_test_X = test[['sex','address', 'Mjob', 'Fjob', 'higher_por', 'absences_mat', 'failures_mat', 'failures_por', 'reason']]\n",
    "df_test_y_por = test.G3_por_bin\n",
    "\n",
    "\n",
    "df_train_X_no_gender = df_train_X.drop(['sex'], axis=1)\n",
    "df_test_X_no_gender = df_test_X.drop(['sex'], axis=1)\n",
    "\n",
    "train_x, test_x = process_dfs(df_train_X_no_gender, df_test_X_no_gender, \n",
    "                                     ['address', 'Mjob', 'Fjob', 'reason',\n",
    "                                     'higher_por','reason'])\n",
    "\n",
    "train_y_por = df_train_y_por.values\n",
    "test_y_por = df_test_y_por.values\n",
    "\n",
    "model = LogisticRegression(random_state=0, max_iter=1000)\n",
    "fit_model = model.fit(train_x, train_y_por)\n",
    "preds = fit_model.predict(test_x)\n",
    "\n",
    "df_test_sens_feat = test['sex']\n",
    "test_sens_por = df_test_sens_feat.values\n",
    "acc = accuracy_score(test_y_por, preds)\n",
    "stat_p = stat_parity(preds, test_sens_por)\n",
    "eq_op = eq_oppo(preds, test_sens_por, test_y_por)\n",
    "print('PORTUGUESE RFE sex dropped: accuracy, statistical parity, and equal opportunity wrt sex')\n",
    "print(acc, stat_p, eq_op)\n",
    "print('\\n')"
   ]
  },
  {
   "cell_type": "markdown",
   "id": "b1f839a6",
   "metadata": {},
   "source": [
    "### Math"
   ]
  },
  {
   "cell_type": "code",
   "execution_count": 230,
   "id": "009aba3c",
   "metadata": {},
   "outputs": [
    {
     "name": "stdout",
     "output_type": "stream",
     "text": [
      "MATH FULL sex dropped: accuracy, statistical parity, and equal opportunity wrt sex\n",
      "0.6753246753246753 0.002873563218390718 -0.07738095238095233\n",
      "\n",
      "\n"
     ]
    }
   ],
   "source": [
    "# sex\n",
    "df_train_X = train.drop(['G1_mat', 'G2_mat', 'G3_mat', 'G1_por', 'G2_por', 'G3_por', 'G3_mat_bin', 'G3_por_bin'], axis=1)\n",
    "df_train_y_mat = train.G3_mat_bin\n",
    "df_test_X = test.drop(['G1_mat', 'G2_mat', 'G3_mat', 'G1_por', 'G2_por', 'G3_por', 'G3_mat_bin', 'G3_por_bin'], axis=1)\n",
    "df_test_y_mat = test.G3_mat_bin\n",
    "\n",
    "df_train_X_no_gender = df_train_X.drop(['sex'], axis=1)\n",
    "df_test_X_no_gender = df_test_X.drop(['sex'], axis=1)\n",
    "\n",
    "train_x, test_x = process_dfs(df_train_X_no_gender, df_test_X_no_gender, \n",
    "                                     ['school', 'address', 'famsize', 'Pstatus', 'Mjob', 'Fjob', 'reason',\n",
    "                                     'guardian_por', 'schoolsup_por', 'famsup_por', 'paid_por', 'activities_por',\n",
    "                                     'nursery', 'higher_por', 'internet', 'romantic_por', 'guardian_mat',\n",
    "                                     'schoolsup_mat', 'famsup_mat', 'paid_mat', 'activities_mat', 'higher_mat',\n",
    "                                     'romantic_mat'])\n",
    "\n",
    "train_y_mat = df_train_y_mat.values\n",
    "test_y_mat = df_test_y_mat.values\n",
    "\n",
    "model = LogisticRegression(random_state=0, max_iter=1000)\n",
    "fit_model = model.fit(train_x, train_y_mat)\n",
    "preds = fit_model.predict(test_x)\n",
    "\n",
    "df_test_sens_feat = test['sex']\n",
    "test_sens_mat = df_test_sens_feat.values\n",
    "acc = accuracy_score(test_y_mat, preds)\n",
    "stat_p = stat_parity(preds, test_sens_mat)\n",
    "eq_op = eq_oppo(preds, test_sens_por, test_y_mat)\n",
    "print('MATH FULL sex dropped: accuracy, statistical parity, and equal opportunity wrt sex')\n",
    "print(acc, stat_p, eq_op)\n",
    "print('\\n')"
   ]
  },
  {
   "cell_type": "markdown",
   "id": "556e1f14",
   "metadata": {},
   "source": [
    "### With RFE Variables"
   ]
  },
  {
   "cell_type": "code",
   "execution_count": 231,
   "id": "1efb3190",
   "metadata": {},
   "outputs": [
    {
     "name": "stdout",
     "output_type": "stream",
     "text": [
      "MATH RFE sex dropped: accuracy, statistical parity, and equal opportunity wrt sex\n",
      "0.6233766233766234 0.05747126436781613 0.06547619047619047\n",
      "\n",
      "\n"
     ]
    }
   ],
   "source": [
    "# sex\n",
    "df_train_X = train[['school','sex', 'Mjob','higher_por', 'absences_mat', 'failures_mat','schoolsup_mat','higher_mat','absences_por']]\n",
    "df_train_y_mat = train.G3_mat_bin\n",
    "df_test_X = test[['school', 'sex', 'Mjob','higher_por', 'absences_mat', 'failures_mat','schoolsup_mat','higher_mat','absences_por']]\n",
    "df_test_y_mat = test.G3_mat_bin\n",
    "\n",
    "df_train_X_no_gender = df_train_X.drop(['sex'], axis=1)\n",
    "df_test_X_no_gender = df_test_X.drop(['sex'], axis=1)\n",
    "\n",
    "train_x, test_x = process_dfs(df_train_X, df_test_X, \n",
    "                                     ['school','Mjob','higher_por','schoolsup_mat','higher_mat'])### with RFE variables\n",
    "train_y_mat = df_train_y_mat.values\n",
    "test_y_mat = df_test_y_mat.values\n",
    "\n",
    "model = LogisticRegression(random_state=0, max_iter=1000)\n",
    "fit_model = model.fit(train_x, train_y_mat)\n",
    "preds = fit_model.predict(test_x)\n",
    "\n",
    "df_test_sens_feat = test['sex']\n",
    "test_sens_mat = df_test_sens_feat.values\n",
    "acc = accuracy_score(test_y_mat, preds)\n",
    "stat_p = stat_parity(preds, test_sens_mat)\n",
    "eq_op = eq_oppo(preds, test_sens_por, test_y_mat)\n",
    "print('MATH RFE sex dropped: accuracy, statistical parity, and equal opportunity wrt sex')\n",
    "print(acc, stat_p, eq_op)\n",
    "print('\\n')"
   ]
  },
  {
   "cell_type": "markdown",
   "id": "17ced24d",
   "metadata": {},
   "source": [
    "## Augment the training set"
   ]
  },
  {
   "cell_type": "markdown",
   "id": "821858d6",
   "metadata": {},
   "source": [
    "### Portuguese"
   ]
  },
  {
   "cell_type": "code",
   "execution_count": 232,
   "id": "8f04e863",
   "metadata": {},
   "outputs": [
    {
     "name": "stdout",
     "output_type": "stream",
     "text": [
      "PORTUGUESE FULL AUG: accuracy, statistical parity, and equal opportunity wrt sex\n",
      "0.7792207792207793 -0.1170977011494253 -0.11764705882352944\n",
      "\n",
      "\n"
     ]
    }
   ],
   "source": [
    "df_train_X = train.drop(['G1_mat', 'G2_mat', 'G3_mat', 'G1_por', 'G2_por', 'G3_por', 'G3_mat_bin', 'G3_por_bin'], axis=1)\n",
    "df_train_y_por = train.G3_por_bin\n",
    "df_test_X = test.drop(['G1_mat', 'G2_mat', 'G3_mat', 'G1_por', 'G2_por', 'G3_por', 'G3_mat_bin', 'G3_por_bin'], axis=1)\n",
    "df_test_y_por = test.G3_por_bin\n",
    "\n",
    "df_train_X_syn = df_train_X.copy()\n",
    "df_train_X_syn['sex'] = 1 - df_train_X_syn.sex\n",
    "df_train_y_syn_por = df_train_y_por.copy() \n",
    "\n",
    "df_train_X_aug = pd.concat((df_train_X, df_train_X_syn))\n",
    "df_train_y_aug_por = pd.concat((df_train_y_por, df_train_y_syn_por))\n",
    "\n",
    "train_x, test_x = process_dfs(df_train_X_aug, df_test_X,\n",
    "                                     ['school', 'sex','address', 'famsize', 'Pstatus', 'Mjob', 'Fjob', 'reason',\n",
    "                                     'guardian_por', 'schoolsup_por', 'famsup_por', 'paid_por', 'activities_por',\n",
    "                                     'nursery', 'higher_por', 'internet', 'romantic_por', 'guardian_mat',\n",
    "                                     'schoolsup_mat', 'famsup_mat', 'paid_mat', 'activities_mat', 'higher_mat',\n",
    "                                     'romantic_mat'])\n",
    "\n",
    "train_y_por = df_train_y_aug_por.values\n",
    "test_y_por = df_test_y_por.values\n",
    "\n",
    "\n",
    "model = LogisticRegression(random_state=0, max_iter=1000)\n",
    "fit_model = model.fit(train_x, train_y_por)\n",
    "preds = fit_model.predict(test_x)\n",
    "\n",
    "df_test_sens_feat = test['sex']\n",
    "test_sens_por = df_test_sens_feat.values\n",
    "acc = accuracy_score(test_y_por, preds)\n",
    "stat_p = stat_parity(preds, test_sens_por)\n",
    "eq_op = eq_oppo(preds, test_sens_por, test_y_por)\n",
    "print('PORTUGUESE FULL AUG: accuracy, statistical parity, and equal opportunity wrt sex')\n",
    "print(acc, stat_p, eq_op)\n",
    "print('\\n')"
   ]
  },
  {
   "cell_type": "markdown",
   "id": "bf13019a",
   "metadata": {},
   "source": [
    "### with RFE variables"
   ]
  },
  {
   "cell_type": "code",
   "execution_count": 233,
   "id": "04511467",
   "metadata": {},
   "outputs": [
    {
     "name": "stdout",
     "output_type": "stream",
     "text": [
      "PORTUGUESE RFE AUG: accuracy, statistical parity, and equal opportunity wrt sex\n",
      "0.7792207792207793 -0.10344827586206895 -0.05882352941176472\n",
      "\n",
      "\n"
     ]
    }
   ],
   "source": [
    "# sex\n",
    "df_train_X = train[['sex','address', 'Mjob', 'Fjob', 'higher_por', 'absences_mat', 'failures_mat', 'failures_por', 'reason']]\n",
    "df_train_y_por = train.G3_por_bin\n",
    "df_test_X = test[['sex','address', 'Mjob', 'Fjob', 'higher_por', 'absences_mat', 'failures_mat', 'failures_por', 'reason']]\n",
    "df_test_y_por = test.G3_por_bin\n",
    "\n",
    "df_train_X_syn = df_train_X.copy()\n",
    "df_train_X_syn['sex'] = 1 - df_train_X_syn.sex\n",
    "df_train_y_syn_por = df_train_y_por.copy() \n",
    "\n",
    "df_train_X_aug = pd.concat((df_train_X, df_train_X_syn))\n",
    "df_train_y_aug_por = pd.concat((df_train_y_por, df_train_y_syn_por))\n",
    "\n",
    "train_x, test_x = process_dfs(df_train_X_aug, df_test_X, \n",
    "                                     ['address', 'Mjob', 'Fjob', 'reason',\n",
    "                                     'higher_por','reason'])\n",
    "\n",
    "train_y_por = df_train_y_aug_por.values\n",
    "test_y_por = df_test_y_por.values\n",
    "\n",
    "\n",
    "model = LogisticRegression(random_state=0, max_iter=1000)\n",
    "fit_model = model.fit(train_x, train_y_por)\n",
    "preds = fit_model.predict(test_x)\n",
    "\n",
    "df_test_sens_feat = test['sex']\n",
    "test_sens_por = df_test_sens_feat.values\n",
    "acc = accuracy_score(test_y_por, preds)\n",
    "stat_p = stat_parity(preds, test_sens_por)\n",
    "eq_op = eq_oppo(preds, test_sens_por, test_y_por)\n",
    "print('PORTUGUESE RFE AUG: accuracy, statistical parity, and equal opportunity wrt sex')\n",
    "print(acc, stat_p, eq_op)\n",
    "print('\\n')"
   ]
  },
  {
   "cell_type": "markdown",
   "id": "3e9079ec",
   "metadata": {},
   "source": [
    "### Math"
   ]
  },
  {
   "cell_type": "code",
   "execution_count": 234,
   "id": "9fdb2a64",
   "metadata": {},
   "outputs": [
    {
     "name": "stdout",
     "output_type": "stream",
     "text": [
      "MATH FULL AUG: accuracy, statistical parity, and equal opportunity wrt sex\n",
      "0.6623376623376623 -0.004310344827586188 -0.005952380952380931\n",
      "\n",
      "\n"
     ]
    }
   ],
   "source": [
    "df_train_X = train.drop(['G1_mat', 'G2_mat', 'G3_mat', 'G1_por', 'G2_por', 'G3_por', 'G3_mat_bin', 'G3_por_bin'], axis=1)\n",
    "df_train_y_mat = train.G3_mat_bin\n",
    "df_test_X = test.drop(['G1_mat', 'G2_mat', 'G3_mat', 'G1_por', 'G2_por', 'G3_por', 'G3_mat_bin', 'G3_por_bin'], axis=1)\n",
    "df_test_y_mat = test.G3_mat_bin\n",
    "\n",
    "df_train_X_syn = df_train_X.copy()\n",
    "df_train_X_syn['sex'] = 1 - df_train_X_syn.sex\n",
    "df_train_y_syn_mat = df_train_y_mat.copy() \n",
    "\n",
    "df_train_X_aug = pd.concat((df_train_X, df_train_X_syn))\n",
    "df_train_y_aug_mat = pd.concat((df_train_y_mat, df_train_y_syn_mat))\n",
    "\n",
    "train_x, test_x = process_dfs(df_train_X_aug, df_test_X,\n",
    "                                     ['school', 'sex','address', 'famsize', 'Pstatus', 'Mjob', 'Fjob', 'reason',\n",
    "                                     'guardian_por', 'schoolsup_por', 'famsup_por', 'paid_por', 'activities_por',\n",
    "                                     'nursery', 'higher_por', 'internet', 'romantic_por', 'guardian_mat',\n",
    "                                     'schoolsup_mat', 'famsup_mat', 'paid_mat', 'activities_mat', 'higher_mat',\n",
    "                                     'romantic_mat'])\n",
    "\n",
    "train_y_por = df_train_y_aug_mat.values\n",
    "test_y_por = df_test_y_mat.values\n",
    "\n",
    "model = LogisticRegression(random_state=0, max_iter=1000)\n",
    "fit_model = model.fit(train_x, train_y_por)\n",
    "preds = fit_model.predict(test_x)\n",
    "\n",
    "df_test_sens_feat = test['sex']\n",
    "test_sens_por = df_test_sens_feat.values\n",
    "acc = accuracy_score(test_y_por, preds)\n",
    "stat_p = stat_parity(preds, test_sens_por)\n",
    "eq_op = eq_oppo(preds, test_sens_por, test_y_por)\n",
    "print('MATH FULL AUG: accuracy, statistical parity, and equal opportunity wrt sex')\n",
    "print(acc, stat_p, eq_op)\n",
    "print('\\n')"
   ]
  },
  {
   "cell_type": "markdown",
   "id": "719393b2",
   "metadata": {},
   "source": [
    "### with RFE variables"
   ]
  },
  {
   "cell_type": "code",
   "execution_count": 235,
   "id": "ff1f442b",
   "metadata": {},
   "outputs": [
    {
     "name": "stdout",
     "output_type": "stream",
     "text": [
      "MATH RFE AUG: accuracy, statistical parity, and equal opportunity wrt sex\n",
      "0.6233766233766234 0.05747126436781613 0.06547619047619047\n",
      "\n",
      "\n"
     ]
    }
   ],
   "source": [
    "# sex\n",
    "df_train_X = train[['school','sex', 'Mjob','higher_por', 'absences_mat', 'failures_mat','schoolsup_mat','higher_mat','absences_por']]\n",
    "df_train_y_mat = train.G3_mat_bin\n",
    "df_test_X = test[['school', 'sex', 'Mjob','higher_por', 'absences_mat', 'failures_mat','schoolsup_mat','higher_mat','absences_por']]\n",
    "df_test_y_mat = test.G3_mat_bin\n",
    "\n",
    "df_train_X_syn = df_train_X.copy()\n",
    "df_train_X_syn['sex'] = 1 - df_train_X_syn.sex\n",
    "df_train_y_syn_mat = df_train_y_mat.copy() \n",
    "\n",
    "df_train_X_aug = pd.concat((df_train_X, df_train_X_syn))\n",
    "df_train_y_aug_mat = pd.concat((df_train_y_mat, df_train_y_syn_mat))\n",
    "\n",
    "train_x, test_x = process_dfs(df_train_X_aug, df_test_X, \n",
    "                                     ['school','Mjob','higher_por','schoolsup_mat','higher_mat'])### with RFE variables\n",
    "\n",
    "\n",
    "train_y_por = df_train_y_aug_mat.values\n",
    "test_y_por = df_test_y_mat.values\n",
    "\n",
    "model = LogisticRegression(random_state=0, max_iter=1000)\n",
    "fit_model = model.fit(train_x, train_y_por)\n",
    "preds = fit_model.predict(test_x)\n",
    "\n",
    "df_test_sens_feat = test['sex']\n",
    "test_sens_por = df_test_sens_feat.values\n",
    "acc = accuracy_score(test_y_por, preds)\n",
    "stat_p = stat_parity(preds, test_sens_por)\n",
    "eq_op = eq_oppo(preds, test_sens_por, test_y_por)\n",
    "print('MATH RFE AUG: accuracy, statistical parity, and equal opportunity wrt sex')\n",
    "print(acc, stat_p, eq_op)\n",
    "print('\\n')"
   ]
  },
  {
   "cell_type": "code",
   "execution_count": null,
   "id": "ed6baa25",
   "metadata": {},
   "outputs": [],
   "source": []
  }
 ],
 "metadata": {
  "kernelspec": {
   "display_name": "Python 3",
   "language": "python",
   "name": "python3"
  },
  "language_info": {
   "codemirror_mode": {
    "name": "ipython",
    "version": 3
   },
   "file_extension": ".py",
   "mimetype": "text/x-python",
   "name": "python",
   "nbconvert_exporter": "python",
   "pygments_lexer": "ipython3",
   "version": "3.8.8"
  }
 },
 "nbformat": 4,
 "nbformat_minor": 5
}
